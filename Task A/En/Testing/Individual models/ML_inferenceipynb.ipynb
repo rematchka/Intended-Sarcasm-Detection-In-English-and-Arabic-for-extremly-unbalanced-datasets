{
  "nbformat": 4,
  "nbformat_minor": 0,
  "metadata": {
    "colab": {
      "name": "ML_inferenceipynb",
      "provenance": []
    },
    "kernelspec": {
      "name": "python3",
      "display_name": "Python 3"
    },
    "language_info": {
      "name": "python"
    },
    "accelerator": "GPU"
  },
  "cells": [
    {
      "cell_type": "code",
      "execution_count": null,
      "metadata": {
        "id": "-rM-8vuOcMF3"
      },
      "outputs": [],
      "source": [
        "import numpy as np # linear algebra\n",
        "import pandas as pd # data processing, CSV file I/O (e.g. pd.read_csv)\n",
        "\n",
        "# Input data files are available in the \"../input/\" directory.\n",
        "# For example, running this (by clicking run or pressing Shift+Enter) will list all files under the input directory\n",
        "\n",
        "import os\n"
      ]
    },
    {
      "cell_type": "code",
      "source": [
        "import os\n",
        "import gc\n",
        "import copy\n",
        "import time\n",
        "import random\n",
        "import string\n",
        "\n",
        "# For data manipulation\n",
        "import numpy as np\n",
        "import pandas as pd\n",
        "\n",
        "\n",
        "\n",
        "# Utils\n",
        "from tqdm import tqdm\n",
        "from collections import defaultdict\n",
        "\n",
        "# Sklearn Imports\n",
        "from sklearn.metrics import mean_squared_error\n",
        "from sklearn.model_selection import StratifiedKFold, KFold\n",
        "\n"
      ],
      "metadata": {
        "id": "MVjggdXsVIma"
      },
      "execution_count": null,
      "outputs": []
    },
    {
      "cell_type": "code",
      "source": [
        "from google.colab import drive\n",
        "drive.mount('/content/drive')"
      ],
      "metadata": {
        "colab": {
          "base_uri": "https://localhost:8080/"
        },
        "id": "rImFU6MfVMgB",
        "outputId": "c8d33b52-35c0-46ab-b104-7f1f0d7dcd6a"
      },
      "execution_count": null,
      "outputs": [
        {
          "output_type": "stream",
          "name": "stdout",
          "text": [
            "Mounted at /content/drive\n"
          ]
        }
      ]
    },
    {
      "cell_type": "code",
      "source": [
        "df_test=pd.read_csv('/content/drive/MyDrive/ISarcasm/TestSet/task_A_En_test.csv')"
      ],
      "metadata": {
        "id": "EwnX6_yZ5aDd"
      },
      "execution_count": null,
      "outputs": []
    },
    {
      "cell_type": "code",
      "source": [
        "df_svm=pd.read_csv('/content/drive/MyDrive/ISarcasm/ML_task_A_models/svm_model_prediction.csv')\n",
        "df_svm_bagging=pd.read_csv('/content/drive/MyDrive/ISarcasm/ML_task_A_models/bagging_svm_model_prediction.csv')"
      ],
      "metadata": {
        "id": "ljbyiNNHaBeG"
      },
      "execution_count": null,
      "outputs": []
    },
    {
      "cell_type": "code",
      "source": [
        "from sklearn.metrics import jaccard_score,f1_score,accuracy_score,recall_score,precision_score,classification_report\n",
        "def print_statistics(y, y_pred):\n",
        "    accuracy = accuracy_score(y, y_pred)\n",
        "    precision =precision_score(y, y_pred, average='weighted')\n",
        "    recall = recall_score(y, y_pred, average='weighted')\n",
        "    f_score = f1_score(y, y_pred, average='weighted')\n",
        "    print('Accuracy: %.3f\\nPrecision: %.3f\\nRecall: %.3f\\nF_score: %.3f\\n'\n",
        "          % (accuracy, precision, recall, f_score))\n",
        "    print(classification_report(y, y_pred))\n",
        "    return accuracy, precision, recall, f_score"
      ],
      "metadata": {
        "id": "yTOlz65N7AAd"
      },
      "execution_count": null,
      "outputs": []
    },
    {
      "cell_type": "code",
      "source": [
        "print(print_statistics(df_test['sarcastic'],df_svm))"
      ],
      "metadata": {
        "colab": {
          "base_uri": "https://localhost:8080/"
        },
        "id": "Axij-ulb7CbG",
        "outputId": "0fa33a0d-f880-4d94-da76-33f075b98959"
      },
      "execution_count": null,
      "outputs": [
        {
          "output_type": "stream",
          "name": "stdout",
          "text": [
            "Accuracy: 0.551\n",
            "Precision: 0.753\n",
            "Recall: 0.551\n",
            "F_score: 0.619\n",
            "\n",
            "              precision    recall  f1-score   support\n",
            "\n",
            "           0       0.85      0.57      0.69      1200\n",
            "           1       0.14      0.41      0.21       200\n",
            "\n",
            "    accuracy                           0.55      1400\n",
            "   macro avg       0.50      0.49      0.45      1400\n",
            "weighted avg       0.75      0.55      0.62      1400\n",
            "\n",
            "(0.5514285714285714, 0.7526804139707365, 0.5514285714285714, 0.61867187211306)\n"
          ]
        }
      ]
    },
    {
      "cell_type": "code",
      "source": [
        "print(print_statistics(df_test['sarcastic'],df_svm_bagging))"
      ],
      "metadata": {
        "id": "nO1a1En97OO5",
        "outputId": "08a1c8e4-0c52-4aff-9de2-1fb54477d1e6",
        "colab": {
          "base_uri": "https://localhost:8080/"
        }
      },
      "execution_count": null,
      "outputs": [
        {
          "output_type": "stream",
          "name": "stdout",
          "text": [
            "Accuracy: 0.596\n",
            "Precision: 0.744\n",
            "Recall: 0.596\n",
            "F_score: 0.653\n",
            "\n",
            "              precision    recall  f1-score   support\n",
            "\n",
            "           0       0.85      0.64      0.73      1200\n",
            "           1       0.12      0.30      0.18       200\n",
            "\n",
            "    accuracy                           0.60      1400\n",
            "   macro avg       0.49      0.47      0.45      1400\n",
            "weighted avg       0.74      0.60      0.65      1400\n",
            "\n",
            "(0.5957142857142858, 0.744360902255639, 0.5957142857142858, 0.6527672908486862)\n"
          ]
        }
      ]
    }
  ]
}