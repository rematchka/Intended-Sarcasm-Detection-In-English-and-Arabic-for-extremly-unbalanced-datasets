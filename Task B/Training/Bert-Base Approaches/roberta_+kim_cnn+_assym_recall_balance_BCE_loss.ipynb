{
  "cells": [
    {
      "cell_type": "markdown",
      "metadata": {
        "id": "H08esTFOYO99"
      },
      "source": [
        "# Main imports and code"
      ]
    },
    {
      "cell_type": "code",
      "execution_count": null,
      "metadata": {
        "id": "EnHQoayhBYlm",
        "colab": {
          "base_uri": "https://localhost:8080/"
        },
        "outputId": "87f404fa-56a0-4dee-f1bc-7716d849fe69"
      },
      "outputs": [
        {
          "output_type": "stream",
          "name": "stdout",
          "text": [
            "Sat Jan 15 17:23:50 2022       \n",
            "+-----------------------------------------------------------------------------+\n",
            "| NVIDIA-SMI 495.46       Driver Version: 460.32.03    CUDA Version: 11.2     |\n",
            "|-------------------------------+----------------------+----------------------+\n",
            "| GPU  Name        Persistence-M| Bus-Id        Disp.A | Volatile Uncorr. ECC |\n",
            "| Fan  Temp  Perf  Pwr:Usage/Cap|         Memory-Usage | GPU-Util  Compute M. |\n",
            "|                               |                      |               MIG M. |\n",
            "|===============================+======================+======================|\n",
            "|   0  Tesla T4            Off  | 00000000:00:04.0 Off |                    0 |\n",
            "| N/A   60C    P8    10W /  70W |      0MiB / 15109MiB |      0%      Default |\n",
            "|                               |                      |                  N/A |\n",
            "+-------------------------------+----------------------+----------------------+\n",
            "                                                                               \n",
            "+-----------------------------------------------------------------------------+\n",
            "| Processes:                                                                  |\n",
            "|  GPU   GI   CI        PID   Type   Process name                  GPU Memory |\n",
            "|        ID   ID                                                   Usage      |\n",
            "|=============================================================================|\n",
            "|  No running processes found                                                 |\n",
            "+-----------------------------------------------------------------------------+\n"
          ]
        }
      ],
      "source": [
        "# check which gpu we're using\n",
        "!nvidia-smi"
      ]
    },
    {
      "cell_type": "code",
      "execution_count": null,
      "metadata": {
        "id": "hYhFR7nSYOjG",
        "colab": {
          "base_uri": "https://localhost:8080/"
        },
        "outputId": "f06ea8eb-7e1e-42db-89ac-d703c3ab5707"
      },
      "outputs": [
        {
          "output_type": "stream",
          "name": "stdout",
          "text": [
            "Requirement already satisfied: transformers in /usr/local/lib/python3.7/dist-packages (4.15.0)\n",
            "Requirement already satisfied: sacremoses in /usr/local/lib/python3.7/dist-packages (from transformers) (0.0.47)\n",
            "Requirement already satisfied: packaging>=20.0 in /usr/local/lib/python3.7/dist-packages (from transformers) (21.3)\n",
            "Requirement already satisfied: numpy>=1.17 in /usr/local/lib/python3.7/dist-packages (from transformers) (1.19.5)\n",
            "Requirement already satisfied: importlib-metadata in /usr/local/lib/python3.7/dist-packages (from transformers) (4.10.0)\n",
            "Requirement already satisfied: requests in /usr/local/lib/python3.7/dist-packages (from transformers) (2.23.0)\n",
            "Requirement already satisfied: pyyaml>=5.1 in /usr/local/lib/python3.7/dist-packages (from transformers) (6.0)\n",
            "Requirement already satisfied: regex!=2019.12.17 in /usr/local/lib/python3.7/dist-packages (from transformers) (2019.12.20)\n",
            "Requirement already satisfied: tqdm>=4.27 in /usr/local/lib/python3.7/dist-packages (from transformers) (4.62.3)\n",
            "Requirement already satisfied: filelock in /usr/local/lib/python3.7/dist-packages (from transformers) (3.4.2)\n",
            "Requirement already satisfied: huggingface-hub<1.0,>=0.1.0 in /usr/local/lib/python3.7/dist-packages (from transformers) (0.4.0)\n",
            "Requirement already satisfied: tokenizers<0.11,>=0.10.1 in /usr/local/lib/python3.7/dist-packages (from transformers) (0.10.3)\n",
            "Requirement already satisfied: typing-extensions>=3.7.4.3 in /usr/local/lib/python3.7/dist-packages (from huggingface-hub<1.0,>=0.1.0->transformers) (3.10.0.2)\n",
            "Requirement already satisfied: pyparsing!=3.0.5,>=2.0.2 in /usr/local/lib/python3.7/dist-packages (from packaging>=20.0->transformers) (3.0.6)\n",
            "Requirement already satisfied: zipp>=0.5 in /usr/local/lib/python3.7/dist-packages (from importlib-metadata->transformers) (3.7.0)\n",
            "Requirement already satisfied: certifi>=2017.4.17 in /usr/local/lib/python3.7/dist-packages (from requests->transformers) (2021.10.8)\n",
            "Requirement already satisfied: chardet<4,>=3.0.2 in /usr/local/lib/python3.7/dist-packages (from requests->transformers) (3.0.4)\n",
            "Requirement already satisfied: idna<3,>=2.5 in /usr/local/lib/python3.7/dist-packages (from requests->transformers) (2.10)\n",
            "Requirement already satisfied: urllib3!=1.25.0,!=1.25.1,<1.26,>=1.21.1 in /usr/local/lib/python3.7/dist-packages (from requests->transformers) (1.24.3)\n",
            "Requirement already satisfied: six in /usr/local/lib/python3.7/dist-packages (from sacremoses->transformers) (1.15.0)\n",
            "Requirement already satisfied: click in /usr/local/lib/python3.7/dist-packages (from sacremoses->transformers) (7.1.2)\n",
            "Requirement already satisfied: joblib in /usr/local/lib/python3.7/dist-packages (from sacremoses->transformers) (1.1.0)\n",
            "Requirement already satisfied: pytorch-ignite in /usr/local/lib/python3.7/dist-packages (0.4.7)\n",
            "Requirement already satisfied: torch<2,>=1.3 in /usr/local/lib/python3.7/dist-packages (from pytorch-ignite) (1.10.0+cu111)\n",
            "Requirement already satisfied: typing-extensions in /usr/local/lib/python3.7/dist-packages (from torch<2,>=1.3->pytorch-ignite) (3.10.0.2)\n"
          ]
        }
      ],
      "source": [
        "!pip  install transformers\n",
        "!pip install pytorch-ignite"
      ]
    },
    {
      "cell_type": "code",
      "execution_count": null,
      "metadata": {
        "id": "RJC8wj73Zd_p"
      },
      "outputs": [],
      "source": [
        "# Any results you write to the current directory are saved as output.\n",
        "import numpy as np # linear algebra\n",
        "import pandas as pd # data processing, CSV file I/O (e.g. pd.read_csv)\n",
        "\n",
        "# Input data files are available in the \"../input/\" directory.\n",
        "# For example, running this (by clicking run or pressing Shift+Enter) will list all files under the input directory\n",
        "\n",
        "import os\n",
        "from transformers import BertTokenizer,BertModel\n",
        "import torch\n",
        "import torch.nn as nn\n",
        "import torch.nn.functional as F\n",
        "from torch.utils.data import DataLoader,Dataset\n",
        "from torch.nn.utils.rnn import pack_padded_sequence\n",
        "from torch.optim import AdamW\n",
        "from tqdm import tqdm\n",
        "from argparse import ArgumentParser\n",
        "from ignite.engine import Events, create_supervised_trainer, create_supervised_evaluator\n",
        "from ignite.metrics import Accuracy, Loss\n",
        "from ignite.engine.engine import Engine, State, Events\n",
        "from ignite.handlers import EarlyStopping\n",
        "from ignite.contrib.handlers import TensorboardLogger, ProgressBar\n",
        "from ignite.utils import convert_tensor\n",
        "from torch.optim.lr_scheduler import ExponentialLR\n",
        "import warnings  \n",
        "warnings.filterwarnings('ignore')"
      ]
    },
    {
      "cell_type": "code",
      "execution_count": null,
      "metadata": {
        "id": "DvKeryw3eQPw"
      },
      "outputs": [],
      "source": [
        "import os\n",
        "import gc\n",
        "import copy\n",
        "import time\n",
        "import random\n",
        "import string\n",
        "\n",
        "# For data manipulation\n",
        "import numpy as np\n",
        "import pandas as pd\n",
        "\n",
        "# Pytorch Imports\n",
        "import torch\n",
        "import torch.nn as nn\n",
        "import torch.optim as optim\n",
        "from torch.optim import lr_scheduler\n",
        "from torch.utils.data import Dataset, DataLoader\n",
        "\n",
        "# Utils\n",
        "from tqdm import tqdm\n",
        "from collections import defaultdict\n",
        "\n",
        "# Sklearn Imports\n",
        "from sklearn.metrics import mean_squared_error\n",
        "from sklearn.model_selection import StratifiedKFold, KFold"
      ]
    },
    {
      "cell_type": "code",
      "execution_count": null,
      "metadata": {
        "id": "fezs8xASSS28"
      },
      "outputs": [],
      "source": [
        "from transformers import AutoTokenizer, AutoModel, AdamW\n"
      ]
    },
    {
      "cell_type": "code",
      "execution_count": null,
      "metadata": {
        "id": "t3FDM6BjTLwW",
        "colab": {
          "base_uri": "https://localhost:8080/"
        },
        "outputId": "76d0b13b-4a1c-4e7b-b22c-32829b81495d"
      },
      "outputs": [
        {
          "output_type": "stream",
          "name": "stdout",
          "text": [
            "Requirement already satisfied: sentencepiece in /usr/local/lib/python3.7/dist-packages (0.1.96)\n"
          ]
        }
      ],
      "source": [
        "!pip install sentencepiece\n"
      ]
    },
    {
      "cell_type": "code",
      "execution_count": null,
      "metadata": {
        "id": "rSzWEX54ScQi"
      },
      "outputs": [],
      "source": [
        "import random\n",
        "import os\n",
        "from urllib import request"
      ]
    },
    {
      "cell_type": "code",
      "execution_count": null,
      "metadata": {
        "id": "i2J-Qx3ekn_N",
        "colab": {
          "base_uri": "https://localhost:8080/"
        },
        "outputId": "4de395bd-ec42-460f-8eb0-a9106e6a51a0"
      },
      "outputs": [
        {
          "output_type": "stream",
          "name": "stdout",
          "text": [
            "Drive already mounted at /content/drive; to attempt to forcibly remount, call drive.mount(\"/content/drive\", force_remount=True).\n"
          ]
        }
      ],
      "source": [
        "from google.colab import drive\n",
        "drive.mount('/content/drive')"
      ]
    },
    {
      "cell_type": "code",
      "source": [
        "df=pd.read_csv('/content/drive/MyDrive/ISarcasm/DataSet/train.En.csv')\n",
        "df=df.loc[df['sarcastic']==1]\n",
        "df=df[['tweet','sarcasm', 'irony',\n",
        "       'satire', 'understatement', 'overstatement', 'rhetorical_question']]"
      ],
      "metadata": {
        "id": "VjoRy3-22MLm"
      },
      "execution_count": null,
      "outputs": []
    },
    {
      "cell_type": "code",
      "source": [
        "train, validate, test = \\\n",
        "              np.split(df.sample(frac=1, random_state=42), \n",
        "                       [int(.6*len(df)), int(.8*len(df))])"
      ],
      "metadata": {
        "id": "y6Fd8UBBdTQ1"
      },
      "execution_count": null,
      "outputs": []
    },
    {
      "cell_type": "code",
      "source": [
        "train=pd.concat([train, validate], ignore_index=True)"
      ],
      "metadata": {
        "id": "PJrh2l2qdXf_"
      },
      "execution_count": null,
      "outputs": []
    },
    {
      "cell_type": "code",
      "source": [
        "# tedf1.to_csv('/content/drive/MyDrive/PCL/test_task_1',index=False)"
      ],
      "metadata": {
        "id": "X5DMNjrTGT8T"
      },
      "execution_count": null,
      "outputs": []
    },
    {
      "cell_type": "code",
      "source": [
        "# trdf1.to_csv('/content/drive/MyDrive/PCL/train_task_1',index=False)"
      ],
      "metadata": {
        "id": "l18cECm4GhQv"
      },
      "execution_count": null,
      "outputs": []
    },
    {
      "cell_type": "markdown",
      "metadata": {
        "id": "xK6FY70KZ6TY"
      },
      "source": [
        "# RoBERTa Baseline for Task 1"
      ]
    },
    {
      "cell_type": "code",
      "execution_count": null,
      "metadata": {
        "id": "EA9QzHTCl5F6"
      },
      "outputs": [],
      "source": [
        "import numpy as np\n",
        "from sklearn.metrics import classification_report, accuracy_score, f1_score, confusion_matrix, precision_score , recall_score\n",
        "\n",
        "from transformers import AutoConfig, AutoModelForSequenceClassification, AutoTokenizer, BertTokenizer\n",
        "from transformers.data.processors import SingleSentenceClassificationProcessor\n",
        "from transformers import Trainer , TrainingArguments\n",
        "from transformers.trainer_utils import EvaluationStrategy\n",
        "from transformers.data.processors.utils import InputFeatures\n",
        "from torch.utils.data import Dataset\n",
        "from torch.utils.data import DataLoader"
      ]
    },
    {
      "cell_type": "code",
      "execution_count": null,
      "metadata": {
        "id": "YlT2IDHumPNi",
        "colab": {
          "base_uri": "https://localhost:8080/"
        },
        "outputId": "950c768a-cdd2-454a-aaec-4b59d0b23437"
      },
      "outputs": [
        {
          "output_type": "stream",
          "name": "stdout",
          "text": [
            "Requirement already satisfied: datasets in /usr/local/lib/python3.7/dist-packages (1.17.0)\n",
            "Requirement already satisfied: tqdm>=4.62.1 in /usr/local/lib/python3.7/dist-packages (from datasets) (4.62.3)\n",
            "Requirement already satisfied: packaging in /usr/local/lib/python3.7/dist-packages (from datasets) (21.3)\n",
            "Requirement already satisfied: importlib-metadata in /usr/local/lib/python3.7/dist-packages (from datasets) (4.10.0)\n",
            "Requirement already satisfied: numpy>=1.17 in /usr/local/lib/python3.7/dist-packages (from datasets) (1.19.5)\n",
            "Requirement already satisfied: multiprocess in /usr/local/lib/python3.7/dist-packages (from datasets) (0.70.12.2)\n",
            "Requirement already satisfied: huggingface-hub<1.0.0,>=0.1.0 in /usr/local/lib/python3.7/dist-packages (from datasets) (0.4.0)\n",
            "Requirement already satisfied: requests>=2.19.0 in /usr/local/lib/python3.7/dist-packages (from datasets) (2.23.0)\n",
            "Requirement already satisfied: fsspec[http]>=2021.05.0 in /usr/local/lib/python3.7/dist-packages (from datasets) (2022.1.0)\n",
            "Requirement already satisfied: dill in /usr/local/lib/python3.7/dist-packages (from datasets) (0.3.4)\n",
            "Requirement already satisfied: pandas in /usr/local/lib/python3.7/dist-packages (from datasets) (1.1.5)\n",
            "Requirement already satisfied: pyarrow!=4.0.0,>=3.0.0 in /usr/local/lib/python3.7/dist-packages (from datasets) (3.0.0)\n",
            "Requirement already satisfied: xxhash in /usr/local/lib/python3.7/dist-packages (from datasets) (2.0.2)\n",
            "Requirement already satisfied: aiohttp in /usr/local/lib/python3.7/dist-packages (from datasets) (3.8.1)\n",
            "Requirement already satisfied: typing-extensions>=3.7.4.3 in /usr/local/lib/python3.7/dist-packages (from huggingface-hub<1.0.0,>=0.1.0->datasets) (3.10.0.2)\n",
            "Requirement already satisfied: pyyaml in /usr/local/lib/python3.7/dist-packages (from huggingface-hub<1.0.0,>=0.1.0->datasets) (6.0)\n",
            "Requirement already satisfied: filelock in /usr/local/lib/python3.7/dist-packages (from huggingface-hub<1.0.0,>=0.1.0->datasets) (3.4.2)\n",
            "Requirement already satisfied: pyparsing!=3.0.5,>=2.0.2 in /usr/local/lib/python3.7/dist-packages (from packaging->datasets) (3.0.6)\n",
            "Requirement already satisfied: chardet<4,>=3.0.2 in /usr/local/lib/python3.7/dist-packages (from requests>=2.19.0->datasets) (3.0.4)\n",
            "Requirement already satisfied: idna<3,>=2.5 in /usr/local/lib/python3.7/dist-packages (from requests>=2.19.0->datasets) (2.10)\n",
            "Requirement already satisfied: certifi>=2017.4.17 in /usr/local/lib/python3.7/dist-packages (from requests>=2.19.0->datasets) (2021.10.8)\n",
            "Requirement already satisfied: urllib3!=1.25.0,!=1.25.1,<1.26,>=1.21.1 in /usr/local/lib/python3.7/dist-packages (from requests>=2.19.0->datasets) (1.24.3)\n",
            "Requirement already satisfied: frozenlist>=1.1.1 in /usr/local/lib/python3.7/dist-packages (from aiohttp->datasets) (1.2.0)\n",
            "Requirement already satisfied: multidict<7.0,>=4.5 in /usr/local/lib/python3.7/dist-packages (from aiohttp->datasets) (5.2.0)\n",
            "Requirement already satisfied: attrs>=17.3.0 in /usr/local/lib/python3.7/dist-packages (from aiohttp->datasets) (21.4.0)\n",
            "Requirement already satisfied: charset-normalizer<3.0,>=2.0 in /usr/local/lib/python3.7/dist-packages (from aiohttp->datasets) (2.0.10)\n",
            "Requirement already satisfied: yarl<2.0,>=1.0 in /usr/local/lib/python3.7/dist-packages (from aiohttp->datasets) (1.7.2)\n",
            "Requirement already satisfied: async-timeout<5.0,>=4.0.0a3 in /usr/local/lib/python3.7/dist-packages (from aiohttp->datasets) (4.0.2)\n",
            "Requirement already satisfied: aiosignal>=1.1.2 in /usr/local/lib/python3.7/dist-packages (from aiohttp->datasets) (1.2.0)\n",
            "Requirement already satisfied: asynctest==0.13.0 in /usr/local/lib/python3.7/dist-packages (from aiohttp->datasets) (0.13.0)\n",
            "Requirement already satisfied: zipp>=0.5 in /usr/local/lib/python3.7/dist-packages (from importlib-metadata->datasets) (3.7.0)\n",
            "Requirement already satisfied: pytz>=2017.2 in /usr/local/lib/python3.7/dist-packages (from pandas->datasets) (2018.9)\n",
            "Requirement already satisfied: python-dateutil>=2.7.3 in /usr/local/lib/python3.7/dist-packages (from pandas->datasets) (2.8.2)\n",
            "Requirement already satisfied: six>=1.5 in /usr/local/lib/python3.7/dist-packages (from python-dateutil>=2.7.3->pandas->datasets) (1.15.0)\n"
          ]
        }
      ],
      "source": [
        "!pip install datasets\n"
      ]
    },
    {
      "cell_type": "code",
      "execution_count": null,
      "metadata": {
        "id": "o-E_jNQbV_NL"
      },
      "outputs": [],
      "source": [
        "class PCLTrainDataset(Dataset):\n",
        "    def __init__(self, df, tokenizer, max_length,displacemnt):\n",
        "        self.df = df\n",
        "        self.max_len = max_length\n",
        "        self.tokenizer = tokenizer\n",
        "        self.text = df['tweet'].values\n",
        "        self.label=df[['sarcasm', 'irony',\n",
        "       'satire', 'understatement', 'overstatement', 'rhetorical_question']].values\n",
        "        \n",
        "    def __len__(self):\n",
        "        return len(self.df)\n",
        "    \n",
        "    def __getitem__(self, index):\n",
        "        text = self.text[index]\n",
        "        # summary = self.summary[index]\n",
        "        inputs_text = self.tokenizer.encode_plus(\n",
        "                                text,\n",
        "                                truncation=True,\n",
        "                                add_special_tokens=True,\n",
        "                                max_length=self.max_len,\n",
        "                                padding='max_length'\n",
        "                            )\n",
        "        \n",
        "                            \n",
        "        target = self.label[index]\n",
        "        \n",
        "        text_ids = inputs_text['input_ids']\n",
        "        text_mask = inputs_text['attention_mask']\n",
        "        \n",
        "       \n",
        "        \n",
        "        \n",
        "        return {\n",
        "            \n",
        "            'text_ids': torch.tensor(text_ids, dtype=torch.long),\n",
        "            'text_mask': torch.tensor(text_mask, dtype=torch.long),\n",
        "            'target': torch.tensor(target, dtype=torch.float)\n",
        "        }\n"
      ]
    },
    {
      "cell_type": "code",
      "source": [
        "import math\n",
        "def sigmoid(x):\n",
        "    return 1/(1+math.exp(-x))"
      ],
      "metadata": {
        "id": "WLXkQK5Bawae"
      },
      "execution_count": null,
      "outputs": []
    },
    {
      "cell_type": "code",
      "source": [
        "from typing import Tuple\n",
        "\n",
        "import torch\n",
        "\n",
        "\n",
        "class F1Score:\n",
        "    \"\"\"\n",
        "    Class for f1 calculation in Pytorch.\n",
        "    \"\"\"\n",
        "\n",
        "    def __init__(self, average: str = 'weighted'):\n",
        "        \"\"\"\n",
        "        Init.\n",
        "\n",
        "        Args:\n",
        "            average: averaging method\n",
        "        \"\"\"\n",
        "        self.average = average\n",
        "        if average not in [None, 'micro', 'macro', 'weighted']:\n",
        "            raise ValueError('Wrong value of average parameter')\n",
        "\n",
        "    @staticmethod\n",
        "    def calc_f1_micro(predictions: torch.Tensor, labels: torch.Tensor) -> torch.Tensor:\n",
        "        \"\"\"\n",
        "        Calculate f1 micro.\n",
        "\n",
        "        Args:\n",
        "            predictions: tensor with predictions\n",
        "            labels: tensor with original labels\n",
        "\n",
        "        Returns:\n",
        "            f1 score\n",
        "        \"\"\"\n",
        "        true_positive = torch.eq(labels, predictions).sum().float()\n",
        "        f1_score = torch.div(true_positive, len(labels))\n",
        "        return f1_score\n",
        "\n",
        "    @staticmethod\n",
        "    def calc_f1_count_for_label(predictions: torch.Tensor,\n",
        "                                labels: torch.Tensor, label_id: int) -> Tuple[torch.Tensor, torch.Tensor]:\n",
        "        \"\"\"\n",
        "        Calculate f1 and true count for the label\n",
        "\n",
        "        Args:\n",
        "            predictions: tensor with predictions\n",
        "            labels: tensor with original labels\n",
        "            label_id: id of current label\n",
        "\n",
        "        Returns:\n",
        "            f1 score and true count for label\n",
        "        \"\"\"\n",
        "        # label count\n",
        "        true_count = torch.eq(labels, label_id).sum()\n",
        "\n",
        "        # true positives: labels equal to prediction and to label_id\n",
        "        true_positive = torch.logical_and(torch.eq(labels, predictions),\n",
        "                                          torch.eq(labels, label_id)).sum().float()\n",
        "        # precision for label\n",
        "        precision = torch.div(true_positive, torch.eq(predictions, label_id).sum().float())\n",
        "        # replace nan values with 0\n",
        "        precision = torch.where(torch.isnan(precision),\n",
        "                                torch.zeros_like(precision).type_as(true_positive),\n",
        "                                precision)\n",
        "\n",
        "        # recall for label\n",
        "        recall = torch.div(true_positive, true_count)\n",
        "        # f1\n",
        "        f1 = 2 * precision * recall / (precision + recall)\n",
        "        # replace nan values with 0\n",
        "        f1 = torch.where(torch.isnan(f1), torch.zeros_like(f1).type_as(true_positive), f1)\n",
        "        return f1, true_count\n",
        "\n",
        "    def __call__(self, predictions: torch.Tensor, labels: torch.Tensor) -> torch.Tensor:\n",
        "        \"\"\"\n",
        "        Calculate f1 score based on averaging method defined in init.\n",
        "\n",
        "        Args:\n",
        "            predictions: tensor with predictions\n",
        "            labels: tensor with original labels\n",
        "\n",
        "        Returns:\n",
        "            f1 score\n",
        "        \"\"\"\n",
        "\n",
        "        # simpler calculation for micro\n",
        "        if self.average == 'micro':\n",
        "            return self.calc_f1_micro(predictions, labels)\n",
        "\n",
        "        f1_score = 0\n",
        "        for label_id in range(1, len(labels.unique()) + 1):\n",
        "            f1, true_count = self.calc_f1_count_for_label(predictions, labels, label_id)\n",
        "\n",
        "            if self.average == 'weighted':\n",
        "                f1_score += f1 * true_count\n",
        "            elif self.average == 'macro':\n",
        "                f1_score += f1\n",
        "\n",
        "        if self.average == 'weighted':\n",
        "            f1_score = torch.div(f1_score, len(labels))\n",
        "        elif self.average == 'macro':\n",
        "            f1_score = torch.div(f1_score, len(labels.unique()))\n",
        "\n",
        "        return f1_score"
      ],
      "metadata": {
        "id": "1IDii9DvXR5G"
      },
      "execution_count": null,
      "outputs": []
    },
    {
      "cell_type": "code",
      "source": [
        "class Recall_Loss(nn.Module):\n",
        "    '''Calculate F1 score. Can work with gpu tensors\n",
        "    \n",
        "    The original implmentation is written by Michal Haltuf on Kaggle.\n",
        "    \n",
        "    Returns\n",
        "    -------\n",
        "    torch.Tensor\n",
        "        `ndim` == 1. epsilon <= val <= 1\n",
        "    \n",
        "    Reference\n",
        "    ---------\n",
        "    - https://www.kaggle.com/rejpalcz/best-loss-function-for-f1-score-metric\n",
        "    - https://scikit-learn.org/stable/modules/generated/sklearn.metrics.f1_score.html#sklearn.metrics.f1_score\n",
        "    - https://discuss.pytorch.org/t/calculating-precision-recall-and-f1-score-in-case-of-multi-label-classification/28265/6\n",
        "    - http://www.ryanzhang.info/python/writing-your-own-loss-function-module-for-pytorch/\n",
        "    '''\n",
        "    def __init__(self, epsilon=1e-7):\n",
        "        super().__init__()\n",
        "        self.epsilon = epsilon\n",
        "        \n",
        "    def forward(self, y_pred, y_true,):\n",
        "        # assert y_pred.ndim == 2\n",
        "        # assert y_true.ndim == 1\n",
        "        # print(y_pred.shape)\n",
        "        # print(y_true.shape)\n",
        "        # y_pred[y_pred<0.5]=0\n",
        "        # y_pred[y_pred>=0.5]=0\n",
        "\n",
        "\n",
        "        \n",
        "        y_true_one_hot = y_true.to(torch.float32)\n",
        "        # y_pred_one_hot = F.one_hot(y_pred.to(torch.int64), 2).to(torch.float32)\n",
        "        \n",
        "        tp = (y_true_one_hot * y_pred).sum(dim=0).to(torch.float32)\n",
        "        tn = ((1 - y_true_one_hot) * (1 - y_pred)).sum(dim=0).to(torch.float32)\n",
        "        fp = ((1 - y_true_one_hot) * y_pred).sum(dim=0).to(torch.float32)\n",
        "        fn = (y_true_one_hot * (1 - y_pred)).sum(dim=0).to(torch.float32)\n",
        "\n",
        "        precision = tp / (tp + fp + self.epsilon)\n",
        "        recall = tp / (tp + fn + self.epsilon)\n",
        "\n",
        "        # f1 = 2* (precision*recall) / (precision + recall + self.epsilon)\n",
        "        # f1 = f1.clamp(min=self.epsilon, max=1-self.epsilon)\n",
        "        # f1=f1.detach()\n",
        "        # print(f1.shape)\n",
        "        # y_pred=y_pred.reshape((y_pred.shape[0], 1))\n",
        "        # y_true=y_true.reshape((y_true.shape[0], 1))\n",
        "\n",
        "        # p1=y_true*(math.log(sigmoid(y_pred)))*(1-f1)[1]\n",
        "        # p0=(1-y_true)*math.log(1-sigmoid(y_pred))*(1-f1)[0]\n",
        "\n",
        "\n",
        "        # y_true_one_hot = F.one_hot(y_true.to(torch.int64), 2)\n",
        "        # print(y_pred)\n",
        "        # print(y_true_one_hot)\n",
        "        recall=recall.detach()\n",
        "        # f1= F1Score('macro')(y_pred, y_true_one_hot)\n",
        "        # f1=f1.detach()\n",
        "        CE =torch.nn.BCEWithLogitsLoss(weight=( 1 - recall))(y_pred, y_true_one_hot)\n",
        "        # loss = ( 1 - f1)  * CE\n",
        "        return  CE"
      ],
      "metadata": {
        "id": "skGp5I4wM_Zn"
      },
      "execution_count": null,
      "outputs": []
    },
    {
      "cell_type": "code",
      "source": [
        "def _squeeze_binary_labels(label):\n",
        "    if label.size(1) == 1:\n",
        "        squeeze_label = label.view(len(label), -1)\n",
        "    else:\n",
        "        inds = torch.nonzero(label >= 1).squeeze()\n",
        "        squeeze_label = inds[:,-1]\n",
        "    return squeeze_label\n",
        "\n",
        "def cross_entropy(pred, label, weight=None, reduction='mean', avg_factor=None):\n",
        "    # element-wise losses\n",
        "    if label.size(-1) != pred.size(0):\n",
        "        label = _squeeze_binary_labels(label)\n",
        "\n",
        "    loss = F.cross_entropy(pred, label, reduction='none')\n",
        "\n",
        "    # apply weights and do the reduction\n",
        "    if weight is not None:\n",
        "        weight = weight.float()\n",
        "    loss = weight_reduce_loss(\n",
        "        loss, weight=weight, reduction=reduction, avg_factor=avg_factor)\n",
        "\n",
        "    return loss\n",
        "\n",
        "\n",
        "def _expand_binary_labels(labels, label_weights, label_channels):\n",
        "    bin_labels = labels.new_full((labels.size(0), label_channels), 0)\n",
        "    inds = torch.nonzero(labels >= 1).squeeze()\n",
        "    if inds.numel() > 0:\n",
        "        bin_labels[inds, labels[inds] - 1] = 1\n",
        "    if label_weights is None:\n",
        "        bin_label_weights = None\n",
        "    else:\n",
        "        bin_label_weights = label_weights.view(-1, 1).expand(\n",
        "            label_weights.size(0), label_channels)\n",
        "    return bin_labels, bin_label_weights\n",
        "\n",
        "\n",
        "def binary_cross_entropy(pred,\n",
        "                         label,\n",
        "                         weight=None,\n",
        "                         reduction='mean',\n",
        "                         avg_factor=None):\n",
        "    if pred.dim() != label.dim():\n",
        "        label, weight = _expand_binary_labels(label, weight, pred.size(-1))\n",
        "\n",
        "    # weighted element-wise losses\n",
        "    if weight is not None:\n",
        "        weight = weight.float()\n",
        "\n",
        "    loss = F.binary_cross_entropy_with_logits(\n",
        "        pred, label.float(), weight, reduction='none')\n",
        "    loss = weight_reduce_loss(loss, reduction=reduction, avg_factor=avg_factor)\n",
        "\n",
        "    return loss\n",
        "\n",
        "\n",
        "def partial_cross_entropy(pred,\n",
        "                          label,\n",
        "                          weight=None,\n",
        "                          reduction='mean',\n",
        "                          avg_factor=None):\n",
        "    if pred.dim() != label.dim():\n",
        "        label, weight = _expand_binary_labels(label, weight, pred.size(-1))\n",
        "\n",
        "    # weighted element-wise losses\n",
        "    if weight is not None:\n",
        "        weight = weight.float()\n",
        "\n",
        "    mask = label == -1\n",
        "    loss = F.binary_cross_entropy_with_logits(\n",
        "        pred, label.float(), weight, reduction='none')\n",
        "    if mask.sum() > 0:\n",
        "        loss *= (1-mask).float()\n",
        "        avg_factor = (1-mask).float().sum()\n",
        "\n",
        "    # do the reduction for the weighted loss\n",
        "    loss = weight_reduce_loss(loss, reduction=reduction, avg_factor=avg_factor)\n",
        "\n",
        "    return loss\n",
        "\n",
        "def kpos_cross_entropy(pred, label, weight=None, reduction='mean', avg_factor=None):\n",
        "    # element-wise losses\n",
        "    if pred.dim() != label.dim():\n",
        "        label, weight = _expand_binary_labels(label, weight, pred.size(-1))\n",
        "\n",
        "    target = label.float() / torch.sum(label, dim=1, keepdim=True).float()\n",
        "\n",
        "    loss = - target * F.log_softmax(pred, dim=1)\n",
        "    # apply weights and do the reduction\n",
        "    if weight is not None:\n",
        "        weight = weight.float()\n",
        "    loss = weight_reduce_loss(\n",
        "        loss, weight=weight, reduction=reduction, avg_factor=avg_factor)\n",
        "\n",
        "    return loss\n",
        "\n",
        "class CrossEntropyLoss(nn.Module):\n",
        "\n",
        "    def __init__(self,\n",
        "                 use_sigmoid=False,\n",
        "                 use_kpos=False,\n",
        "                 partial=False,\n",
        "                 reduction='mean',\n",
        "                 loss_weight=1.0,\n",
        "                 thrds=None):\n",
        "        super(CrossEntropyLoss, self).__init__()\n",
        "        assert (use_sigmoid is True) or (partial is False)\n",
        "        self.use_sigmoid = use_sigmoid\n",
        "        self.use_kpos = use_kpos\n",
        "        self.partial = partial\n",
        "        self.reduction = reduction\n",
        "        self.loss_weight = loss_weight\n",
        "        if self.use_sigmoid and thrds is not None:\n",
        "            self.thrds=inverse_sigmoid(thrds)\n",
        "        else:\n",
        "            self.thrds = thrds\n",
        "\n",
        "        if self.use_sigmoid:\n",
        "            if self.partial:\n",
        "                self.cls_criterion = partial_cross_entropy\n",
        "            else:\n",
        "                self.cls_criterion = binary_cross_entropy\n",
        "        elif self.use_kpos:\n",
        "            self.cls_criterion = kpos_cross_entropy\n",
        "        else:\n",
        "            self.cls_criterion = cross_entropy\n",
        "\n",
        "    def forward(self,\n",
        "                cls_score,\n",
        "                label,\n",
        "                weight=None,\n",
        "                avg_factor=None,\n",
        "                reduction_override=None,\n",
        "                **kwargs):\n",
        "        assert reduction_override in (None, 'none', 'mean', 'sum')\n",
        "        reduction = (\n",
        "            reduction_override if reduction_override else self.reduction)\n",
        "\n",
        "        if self.thrds is not None:\n",
        "            cut_high_mask = (label == 1) * (cls_score > self.thrds[1])\n",
        "            cut_low_mask = (label == 0) * (cls_score < self.thrds[0])\n",
        "            if weight is not None:\n",
        "                weight *= (1 - cut_high_mask).float() * (1 - cut_low_mask).float()\n",
        "            else:\n",
        "                weight = (1 - cut_high_mask).float() * (1 - cut_low_mask).float()\n",
        "\n",
        "        loss_cls = self.loss_weight * self.cls_criterion(\n",
        "            cls_score,\n",
        "            label,\n",
        "            weight,\n",
        "            reduction=reduction,\n",
        "            avg_factor=avg_factor,\n",
        "            **kwargs)\n",
        "        return loss_cls\n",
        "\n",
        "def inverse_sigmoid(Y):\n",
        "    X = []\n",
        "    for y in Y:\n",
        "        y = max(y,1e-14)\n",
        "        if y == 1:\n",
        "            x = 1e10\n",
        "        else:\n",
        "            x = -np.log(1/y-1)\n",
        "        X.append(x)\n",
        "\n",
        "    return X"
      ],
      "metadata": {
        "id": "eZjiLBuJkShx"
      },
      "execution_count": null,
      "outputs": []
    },
    {
      "cell_type": "code",
      "source": [
        "class ResampleLoss(nn.Module):\n",
        "\n",
        "    def __init__(self,\n",
        "                 use_sigmoid=True, partial=False,\n",
        "                 loss_weight=1.0, reduction='mean',\n",
        "                 reweight_func=None,  # None, 'inv', 'sqrt_inv', 'rebalance', 'CB'\n",
        "                 weight_norm=None, # None, 'by_instance', 'by_batch'\n",
        "                 focal=dict(\n",
        "                     focal=True,\n",
        "                     alpha=0.5,\n",
        "                     gamma=2,\n",
        "                 ),\n",
        "                 map_param=dict(\n",
        "                     alpha=10.0,\n",
        "                     beta=0.2,\n",
        "                     gamma=0.1\n",
        "                 ),\n",
        "                 CB_loss=dict(\n",
        "                     CB_beta=0.9,\n",
        "                     CB_mode='average_w'  # 'by_class', 'average_n', 'average_w', 'min_n'\n",
        "                 ),\n",
        "                 logit_reg=dict(\n",
        "                     neg_scale=5.0,\n",
        "                     init_bias=0.1\n",
        "                 ),\n",
        "                 class_freq=None,\n",
        "                 train_num=None):\n",
        "        super(ResampleLoss, self).__init__()\n",
        "\n",
        "        assert (use_sigmoid is True) or (partial is False)\n",
        "        self.use_sigmoid = use_sigmoid\n",
        "        self.partial = partial\n",
        "        self.loss_weight = loss_weight\n",
        "        self.reduction = reduction\n",
        "        if self.use_sigmoid:\n",
        "            if self.partial:\n",
        "                self.cls_criterion = partial_cross_entropy\n",
        "            else:\n",
        "                self.cls_criterion = binary_cross_entropy\n",
        "        else:\n",
        "            self.cls_criterion = cross_entropy\n",
        "\n",
        "        # reweighting function\n",
        "        self.reweight_func = reweight_func\n",
        "\n",
        "        # normalization (optional)\n",
        "        self.weight_norm = weight_norm\n",
        "\n",
        "        # focal loss params\n",
        "        self.focal = focal['focal']\n",
        "        self.gamma = focal['gamma']\n",
        "        self.alpha = focal['alpha'] # change to alpha\n",
        "\n",
        "        # mapping function params\n",
        "        self.map_alpha = map_param['alpha']\n",
        "        self.map_beta = map_param['beta']\n",
        "        self.map_gamma = map_param['gamma']\n",
        "\n",
        "        # CB loss params (optional)\n",
        "        self.CB_beta = CB_loss['CB_beta']\n",
        "        self.CB_mode = CB_loss['CB_mode']\n",
        "\n",
        "        self.class_freq = torch.from_numpy(np.asarray(class_freq)).float().cuda()\n",
        "        self.num_classes = self.class_freq.shape[0]\n",
        "        self.train_num = train_num # only used to be divided by class_freq\n",
        "        # regularization params\n",
        "        self.logit_reg = logit_reg\n",
        "        self.neg_scale = logit_reg[\n",
        "            'neg_scale'] if 'neg_scale' in logit_reg else 1.0\n",
        "        init_bias = logit_reg['init_bias'] if 'init_bias' in logit_reg else 0.0\n",
        "        self.init_bias = - torch.log(\n",
        "            self.train_num / self.class_freq - 1) * init_bias ########################## bug fixed https://github.com/wutong16/DistributionBalancedLoss/issues/8\n",
        "\n",
        "        self.freq_inv = torch.ones(self.class_freq.shape).cuda() / self.class_freq\n",
        "        self.propotion_inv = self.train_num / self.class_freq\n",
        "\n",
        "    def forward(self,\n",
        "                cls_score_,\n",
        "                label,\n",
        "                weight=None,\n",
        "                avg_factor=None,\n",
        "                reduction_override=None,\n",
        "                **kwargs):\n",
        "\n",
        "        assert reduction_override in (None, 'none', 'mean', 'sum')\n",
        "        reduction = (\n",
        "            reduction_override if reduction_override else self.reduction)\n",
        "\n",
        "        weight = self.reweight_functions(label)\n",
        "        cls_score=cls_score_.clone()\n",
        "\n",
        "        cls_score, weight = self.logit_reg_functions(label.float(), cls_score, weight)\n",
        "\n",
        "        if self.focal:\n",
        "            logpt = self.cls_criterion(\n",
        "                cls_score.clone(), label, weight=None, reduction='none',\n",
        "                avg_factor=avg_factor)\n",
        "            # pt is sigmoid(logit) for pos or sigmoid(-logit) for neg\n",
        "            pt = torch.exp(-logpt)\n",
        "            wtloss = self.cls_criterion(\n",
        "                cls_score, label.float(), weight=weight, reduction='none')\n",
        "            alpha_t = torch.where(label==1, self.alpha, 1-self.alpha)\n",
        "            loss = alpha_t * ((1 - pt) ** self.gamma) * wtloss ####################### balance_param should be a tensor\n",
        "            loss = reduce_loss(loss, reduction)             ############################ add reduction\n",
        "        else:\n",
        "            loss = self.cls_criterion(cls_score, label.float(), weight,\n",
        "                                      reduction=reduction)\n",
        "\n",
        "        loss = self.loss_weight * loss\n",
        "        return loss\n",
        "\n",
        "    def reweight_functions(self, label):\n",
        "        if self.reweight_func is None:\n",
        "            return None\n",
        "        elif self.reweight_func in ['inv', 'sqrt_inv']:\n",
        "            weight = self.RW_weight(label.float())\n",
        "        elif self.reweight_func in 'rebalance':\n",
        "            weight = self.rebalance_weight(label.float())\n",
        "        elif self.reweight_func in 'CB':\n",
        "            weight = self.CB_weight(label.float())\n",
        "        else:\n",
        "            return None\n",
        "\n",
        "        if self.weight_norm is not None:\n",
        "            if 'by_instance' in self.weight_norm:\n",
        "                max_by_instance, _ = torch.max(weight, dim=-1, keepdim=True)\n",
        "                weight = weight / max_by_instance\n",
        "            elif 'by_batch' in self.weight_norm:\n",
        "                weight = weight / torch.max(weight)\n",
        "\n",
        "        return weight\n",
        "\n",
        "    def logit_reg_functions(self, labels, logits, weight=None): \n",
        "        if not self.logit_reg:\n",
        "            return logits, weight\n",
        "        if 'init_bias' in self.logit_reg:\n",
        "            logits += self.init_bias\n",
        "        if 'neg_scale' in self.logit_reg:\n",
        "            logits = logits * (1 - labels) * self.neg_scale  + logits * labels\n",
        "            if weight is not None:\n",
        "                weight = weight / self.neg_scale * (1 - labels) + weight * labels\n",
        "        return logits, weight\n",
        "\n",
        "    def rebalance_weight(self, gt_labels):\n",
        "        repeat_rate = torch.sum( gt_labels.float() * self.freq_inv, dim=1, keepdim=True)\n",
        "        pos_weight = self.freq_inv.clone().detach().unsqueeze(0) / repeat_rate\n",
        "        # pos and neg are equally treated\n",
        "        weight = torch.sigmoid(self.map_beta * (pos_weight - self.map_gamma)) + self.map_alpha\n",
        "        return weight\n",
        "\n",
        "    def CB_weight(self, gt_labels):\n",
        "        if  'by_class' in self.CB_mode:\n",
        "            weight = torch.tensor((1 - self.CB_beta)).cuda() / \\\n",
        "                     (1 - torch.pow(self.CB_beta, self.class_freq)).cuda()\n",
        "        elif 'average_n' in self.CB_mode:\n",
        "            avg_n = torch.sum(gt_labels * self.class_freq, dim=1, keepdim=True) / \\\n",
        "                    torch.sum(gt_labels, dim=1, keepdim=True)\n",
        "            weight = torch.tensor((1 - self.CB_beta)).cuda() / \\\n",
        "                     (1 - torch.pow(self.CB_beta, avg_n)).cuda()\n",
        "        elif 'average_w' in self.CB_mode:\n",
        "            weight_ = torch.tensor((1 - self.CB_beta)).cuda() / \\\n",
        "                      (1 - torch.pow(self.CB_beta, self.class_freq)).cuda()\n",
        "            weight = torch.sum(gt_labels * weight_, dim=1, keepdim=True) / \\\n",
        "                     torch.sum(gt_labels, dim=1, keepdim=True)\n",
        "        elif 'min_n' in self.CB_mode:\n",
        "            min_n, _ = torch.min(gt_labels * self.class_freq +\n",
        "                                 (1 - gt_labels) * 100000, dim=1, keepdim=True)\n",
        "            weight = torch.tensor((1 - self.CB_beta)).cuda() / \\\n",
        "                     (1 - torch.pow(self.CB_beta, min_n)).cuda()\n",
        "        else:\n",
        "            raise NameError\n",
        "        return weight\n",
        "\n",
        "    def RW_weight(self, gt_labels, by_class=True):\n",
        "        if 'sqrt' in self.reweight_func:\n",
        "            weight = torch.sqrt(self.propotion_inv)\n",
        "        else:\n",
        "            weight = self.propotion_inv\n",
        "        if not by_class:\n",
        "            sum_ = torch.sum(weight * gt_labels, dim=1, keepdim=True)\n",
        "            weight = sum_ / torch.sum(gt_labels, dim=1, keepdim=True)\n",
        "        return weight\n",
        "    \n",
        "\n",
        "def reduce_loss(loss, reduction):\n",
        "    \"\"\"Reduce loss as specified.\n",
        "    Args:\n",
        "        loss (Tensor): Elementwise loss tensor.\n",
        "        reduction (str): Options are \"none\", \"mean\" and \"sum\".\n",
        "    Return:\n",
        "        Tensor: Reduced loss tensor.\n",
        "    \"\"\"\n",
        "    reduction_enum = F._Reduction.get_enum(reduction)\n",
        "    # none: 0, elementwise_mean:1, sum: 2\n",
        "    if reduction_enum == 0:\n",
        "        return loss\n",
        "    elif reduction_enum == 1:\n",
        "        return loss.mean()\n",
        "    elif reduction_enum == 2:\n",
        "        return loss.sum()\n",
        "\n",
        "\n",
        "def weight_reduce_loss(loss, weight=None, reduction='mean', avg_factor=None):\n",
        "    \"\"\"Apply element-wise weight and reduce loss.\n",
        "    Args:\n",
        "        loss (Tensor): Element-wise loss.\n",
        "        weight (Tensor): Element-wise weights.\n",
        "        reduction (str): Same as built-in losses of PyTorch.\n",
        "        avg_factor (float): Avarage factor when computing the mean of losses.\n",
        "    Returns:\n",
        "        Tensor: Processed loss values.\n",
        "    \"\"\"\n",
        "    # if weight is specified, apply element-wise weight\n",
        "    if weight is not None:\n",
        "        loss = loss * weight\n",
        "\n",
        "    # if avg_factor is not specified, just reduce the loss\n",
        "    if avg_factor is None:\n",
        "        loss = reduce_loss(loss, reduction)\n",
        "    else:\n",
        "        # if reduction is mean, then average the loss by avg_factor\n",
        "        if reduction == 'mean':\n",
        "            loss = loss.sum() / avg_factor\n",
        "        # if reduction is 'none', then do nothing, otherwise raise an error\n",
        "        elif reduction != 'none':\n",
        "            raise ValueError('avg_factor can not be used with reduction=\"sum\"')\n",
        "    return loss\n",
        "\n",
        "\n",
        "def binary_cross_entropy(pred,\n",
        "                         label,\n",
        "                         weight=None,\n",
        "                         reduction='mean',\n",
        "                         avg_factor=None):\n",
        "\n",
        "    # weighted element-wise losses\n",
        "    if weight is not None:\n",
        "        weight = weight.float()\n",
        "\n",
        "    loss = F.binary_cross_entropy_with_logits(\n",
        "        pred, label.float(), weight, reduction='none')\n",
        "    loss = weight_reduce_loss(loss, reduction=reduction, avg_factor=avg_factor)\n",
        "\n",
        "    return loss"
      ],
      "metadata": {
        "id": "r7zDNZday-4w"
      },
      "execution_count": null,
      "outputs": []
    },
    {
      "cell_type": "code",
      "execution_count": null,
      "metadata": {
        "id": "AZa-chAxXf5r"
      },
      "outputs": [],
      "source": [
        "class PCL_Model_Arch(nn.Module):\n",
        "    def __init__(self,pre_trained='roberta-base'):\n",
        "        super().__init__()\n",
        "        \n",
        "        self.bert = AutoModel.from_pretrained(pre_trained, output_hidden_states=True)\n",
        "        output_channel = 16  # number of kernels\n",
        "        num_classes = 6  # number of targets to predict\n",
        "        dropout = 0.2  # dropout value\n",
        "        embedding_dim = 768   # length of embedding dim\n",
        "\n",
        "        ks = 3  # three conv nets here\n",
        "\n",
        "        # input_channel = word embeddings at a value of 1; 3 for RGB images\n",
        "        input_channel = 4  # for single embedding, input_channel = 1\n",
        "\n",
        "        # [3, 4, 5] = window height\n",
        "        # padding = padding to account for height of search window\n",
        "\n",
        "        # 3 convolutional nets\n",
        "        self.conv1 = nn.Conv2d(input_channel, output_channel, (3, embedding_dim), padding=(2, 0), groups=4)\n",
        "        self.conv2 = nn.Conv2d(input_channel, output_channel, (4, embedding_dim), padding=(3, 0), groups=4)\n",
        "        self.conv3 = nn.Conv2d(input_channel, output_channel, (5, embedding_dim), padding=(4, 0), groups=4)\n",
        "\n",
        "        # apply dropout\n",
        "        self.dropout = nn.Dropout(dropout)\n",
        "\n",
        "        # fully connected layer for classification\n",
        "        # 3x conv nets * output channel\n",
        "        self.fc1 = nn.Linear(ks * output_channel, num_classes)\n",
        "        self.softmax = nn.Sigmoid()\n",
        "\n",
        "    def forward(self, text_id, text_mask):\n",
        "        # get the last 4 layers\n",
        "        outputs= self.bert(text_id, attention_mask=text_mask)\n",
        "        # all_layers  = [4, 16, 256, 768]\n",
        "        hidden_layers = outputs[2]  # get hidden layers\n",
        "\n",
        "        hidden_layers = torch.stack(hidden_layers, dim=1)\n",
        "        x = hidden_layers[:, -4:] \n",
        "        # x = x.unsqueeze(1)\n",
        "        # x = torch.mean(x, 0)\n",
        "        # print(hidden_layers.size())\n",
        "      \n",
        "        torch.cuda.empty_cache()\n",
        "        x = [F.relu(self.conv1(x)).squeeze(3), F.relu(self.conv2(x)).squeeze(3), F.relu(self.conv3(x)).squeeze(3)]\n",
        "        # max-over-time pooling; # (batch, channel_output) * ks\n",
        "        x = [F.max_pool1d(i, i.size(2)).squeeze(2) for i in x]\n",
        "        # concat results; (batch, channel_output * ks)\n",
        "        x = torch.cat(x, 1)\n",
        "        # add dropout\n",
        "        x = self.dropout(x)\n",
        "        # generate logits (batch, target_size)\n",
        "        logit = self.fc1(x)\n",
        "        torch.cuda.empty_cache()\n",
        "        return logit"
      ]
    },
    {
      "cell_type": "code",
      "source": [
        "# class PCL_Model_Arch(nn.Module):\n",
        "\n",
        "#     def __init__(self):\n",
        "#         super(PCL_Model_Arch, self).__init__()\n",
        "#         self.bert = AutoModel.from_pretrained('google/canine-c', output_hidden_states=False)\n",
        "#         self.drop = nn.Dropout(p=0.2)\n",
        "#         self.fc = nn.Linear(768, 2)\n",
        "\n",
        "        \n",
        "#         self.softmax = nn.Softmax()\n",
        "\n",
        "#     def forward(self, text_id, text_mask):\n",
        "#         # get the last 4 layers\n",
        "#         outputs= self.bert(text_id, attention_mask=text_mask)\n",
        "#         # all_layers  = [4, 16, 256, 768]\n",
        "#         hidden_layers = outputs[1]  # get hidden layers\n",
        "#         torch.cuda.empty_cache()\n",
        "\n",
        "        \n",
        "#         x = self.drop(hidden_layers)\n",
        "#         torch.cuda.empty_cache()\n",
        "#         # generate logits (batch, target_size)\n",
        "#         logit = self.fc(x)\n",
        "#         torch.cuda.empty_cache()\n",
        "#         return self.softmax(logit)"
      ],
      "metadata": {
        "id": "IfQwNPiRx_6y"
      },
      "execution_count": null,
      "outputs": []
    },
    {
      "cell_type": "code",
      "source": [
        "import torch\n",
        "import torch.nn as nn\n",
        "\n",
        "\n",
        "class AsymmetricLoss(nn.Module):\n",
        "    def __init__(self, gamma_neg=4, gamma_pos=1, clip=0.05, eps=1e-8, disable_torch_grad_focal_loss=True):\n",
        "        super(AsymmetricLoss, self).__init__()\n",
        "\n",
        "        self.gamma_neg = gamma_neg\n",
        "        self.gamma_pos = gamma_pos\n",
        "        self.clip = clip\n",
        "        self.disable_torch_grad_focal_loss = disable_torch_grad_focal_loss\n",
        "        self.eps = eps\n",
        "\n",
        "    def forward(self, x, y):\n",
        "        \"\"\"\"\n",
        "        Parameters\n",
        "        ----------\n",
        "        x: input logits\n",
        "        y: targets (multi-label binarized vector)\n",
        "        \"\"\"\n",
        "\n",
        "        # Calculating Probabilities\n",
        "        x_sigmoid = torch.sigmoid(x)\n",
        "        xs_pos = x_sigmoid\n",
        "        xs_neg = 1 - x_sigmoid\n",
        "\n",
        "        # Asymmetric Clipping\n",
        "        if self.clip is not None and self.clip > 0:\n",
        "            xs_neg = (xs_neg + self.clip).clamp(max=1)\n",
        "\n",
        "        # Basic CE calculation\n",
        "        los_pos = y * torch.log(xs_pos.clamp(min=self.eps))\n",
        "        los_neg = (1 - y) * torch.log(xs_neg.clamp(min=self.eps))\n",
        "        loss = los_pos + los_neg\n",
        "\n",
        "        # Asymmetric Focusing\n",
        "        if self.gamma_neg > 0 or self.gamma_pos > 0:\n",
        "            if self.disable_torch_grad_focal_loss:\n",
        "                torch.set_grad_enabled(False)\n",
        "            pt0 = xs_pos * y\n",
        "            pt1 = xs_neg * (1 - y)  # pt = p if t > 0 else 1-p\n",
        "            pt = pt0 + pt1\n",
        "            one_sided_gamma = self.gamma_pos * y + self.gamma_neg * (1 - y)\n",
        "            one_sided_w = torch.pow(1 - pt, one_sided_gamma)\n",
        "            if self.disable_torch_grad_focal_loss:\n",
        "                torch.set_grad_enabled(True)\n",
        "            loss *= one_sided_w\n",
        "\n",
        "        return -loss.sum()\n",
        "\n",
        "\n",
        "class AsymmetricLossOptimized(nn.Module):\n",
        "    ''' Notice - optimized version, minimizes memory allocation and gpu uploading,\n",
        "    favors inplace operations'''\n",
        "\n",
        "    def __init__(self, gamma_neg=4, gamma_pos=1, clip=0.05, eps=1e-8, disable_torch_grad_focal_loss=False):\n",
        "        super(AsymmetricLossOptimized, self).__init__()\n",
        "\n",
        "        self.gamma_neg = gamma_neg\n",
        "        self.gamma_pos = gamma_pos\n",
        "        self.clip = clip\n",
        "        self.disable_torch_grad_focal_loss = disable_torch_grad_focal_loss\n",
        "        self.eps = eps\n",
        "\n",
        "        # prevent memory allocation and gpu uploading every iteration, and encourages inplace operations\n",
        "        self.targets = self.anti_targets = self.xs_pos = self.xs_neg = self.asymmetric_w = self.loss = None\n",
        "\n",
        "    def forward(self, x, y):\n",
        "        \"\"\"\"\n",
        "        Parameters\n",
        "        ----------\n",
        "        x: input logits\n",
        "        y: targets (multi-label binarized vector)\n",
        "        \"\"\"\n",
        "\n",
        "        self.targets = y\n",
        "        self.anti_targets = 1 - y\n",
        "\n",
        "        # Calculating Probabilities\n",
        "        self.xs_pos = torch.sigmoid(x)\n",
        "        self.xs_neg = 1.0 - self.xs_pos\n",
        "\n",
        "        # Asymmetric Clipping\n",
        "        if self.clip is not None and self.clip > 0:\n",
        "            self.xs_neg.add_(self.clip).clamp_(max=1)\n",
        "\n",
        "        # Basic CE calculation\n",
        "        self.loss = self.targets * torch.log(self.xs_pos.clamp(min=self.eps))\n",
        "        self.loss.add_(self.anti_targets * torch.log(self.xs_neg.clamp(min=self.eps)))\n",
        "\n",
        "        # Asymmetric Focusing\n",
        "        if self.gamma_neg > 0 or self.gamma_pos > 0:\n",
        "            if self.disable_torch_grad_focal_loss:\n",
        "                torch.set_grad_enabled(False)\n",
        "            self.xs_pos = self.xs_pos * self.targets\n",
        "            self.xs_neg = self.xs_neg * self.anti_targets\n",
        "            self.asymmetric_w = torch.pow(1 - self.xs_pos - self.xs_neg,\n",
        "                                          self.gamma_pos * self.targets + self.gamma_neg * self.anti_targets)\n",
        "            if self.disable_torch_grad_focal_loss:\n",
        "                torch.set_grad_enabled(True)\n",
        "            self.loss *= self.asymmetric_w\n",
        "\n",
        "        return -self.loss.sum()\n",
        "\n",
        "\n",
        "class ASLSingleLabel(nn.Module):\n",
        "    '''\n",
        "    This loss is intended for single-label classification problems\n",
        "    '''\n",
        "    def __init__(self, gamma_pos=0, gamma_neg=4, eps: float = 0.1, reduction='mean'):\n",
        "        super(ASLSingleLabel, self).__init__()\n",
        "\n",
        "        self.eps = eps\n",
        "        self.logsoftmax = nn.LogSoftmax(dim=-1)\n",
        "        self.targets_classes = []\n",
        "        self.gamma_pos = gamma_pos\n",
        "        self.gamma_neg = gamma_neg\n",
        "        self.reduction = reduction\n",
        "\n",
        "    def forward(self, inputs, target):\n",
        "        '''\n",
        "        \"input\" dimensions: - (batch_size,number_classes)\n",
        "        \"target\" dimensions: - (batch_size)\n",
        "        '''\n",
        "        num_classes = inputs.size()[-1]\n",
        "        log_preds = self.logsoftmax(inputs)\n",
        "        self.targets_classes = torch.zeros_like(inputs).scatter_(1, target.long().unsqueeze(1), 1)\n",
        "\n",
        "        # ASL weights\n",
        "        targets = self.targets_classes\n",
        "        anti_targets = 1 - targets\n",
        "        xs_pos = torch.exp(log_preds)\n",
        "        xs_neg = 1 - xs_pos\n",
        "        xs_pos = xs_pos * targets\n",
        "        xs_neg = xs_neg * anti_targets\n",
        "        asymmetric_w = torch.pow(1 - xs_pos - xs_neg,\n",
        "                                 self.gamma_pos * targets + self.gamma_neg * anti_targets)\n",
        "        log_preds = log_preds * asymmetric_w\n",
        "\n",
        "        if self.eps > 0:  # label smoothing\n",
        "            self.targets_classes = self.targets_classes.mul(1 - self.eps).add(self.eps / num_classes)\n",
        "\n",
        "        # loss calculation\n",
        "        loss = - self.targets_classes.mul(log_preds)\n",
        "\n",
        "        loss = loss.sum(dim=-1)\n",
        "        if self.reduction == 'mean':\n",
        "            loss = loss.mean()\n",
        "\n",
        "        return loss"
      ],
      "metadata": {
        "id": "NrNzI4PalQgC"
      },
      "execution_count": null,
      "outputs": []
    },
    {
      "cell_type": "code",
      "source": [
        "!pip install emoji"
      ],
      "metadata": {
        "colab": {
          "base_uri": "https://localhost:8080/"
        },
        "id": "oT2dbUWN294h",
        "outputId": "898315c0-332e-49e2-8ad1-914372a3a29d"
      },
      "execution_count": null,
      "outputs": [
        {
          "output_type": "stream",
          "name": "stdout",
          "text": [
            "Requirement already satisfied: emoji in /usr/local/lib/python3.7/dist-packages (1.6.3)\n"
          ]
        }
      ]
    },
    {
      "cell_type": "code",
      "execution_count": null,
      "metadata": {
        "id": "tuODW43NYhTz"
      },
      "outputs": [],
      "source": [
        "tokenizer= AutoTokenizer.from_pretrained('roberta-base')\n"
      ]
    },
    {
      "cell_type": "code",
      "source": [
        "y_train=train[['sarcasm', 'irony',\n",
        "       'satire', 'understatement', 'overstatement', 'rhetorical_question']].values\n",
        "class_freq=np.sum(y_train,axis=0)"
      ],
      "metadata": {
        "id": "TX7ly-CxsN-J"
      },
      "execution_count": null,
      "outputs": []
    },
    {
      "cell_type": "code",
      "source": [
        "len(y_train)"
      ],
      "metadata": {
        "colab": {
          "base_uri": "https://localhost:8080/"
        },
        "id": "wWil8TgPs9SD",
        "outputId": "f8105e8e-fd0a-4b11-a499-2ff3e225929c"
      },
      "execution_count": null,
      "outputs": [
        {
          "output_type": "execute_result",
          "data": {
            "text/plain": [
              "693"
            ]
          },
          "metadata": {},
          "execution_count": 28
        }
      ]
    },
    {
      "cell_type": "code",
      "source": [
        "# class_freq=class_freq.reshape(6,1)"
      ],
      "metadata": {
        "id": "We57e4GvsbuA"
      },
      "execution_count": null,
      "outputs": []
    },
    {
      "cell_type": "code",
      "source": [
        "class_freq\n"
      ],
      "metadata": {
        "colab": {
          "base_uri": "https://localhost:8080/"
        },
        "id": "HEsjzp8cssLQ",
        "outputId": "87efbf1e-fad9-471d-ca3b-b1453e1b31a3"
      },
      "execution_count": null,
      "outputs": [
        {
          "output_type": "execute_result",
          "data": {
            "text/plain": [
              "array([575., 119.,  20.,   9.,  34.,  76.])"
            ]
          },
          "metadata": {},
          "execution_count": 30
        }
      ]
    },
    {
      "cell_type": "code",
      "source": [
        "def cross_entropy(pred, label, weight=None, reduction='mean', avg_factor=None):\n",
        "    # element-wise losses\n",
        "    if label.size(-1) != pred.size(0):\n",
        "        label = _squeeze_binary_labels(label)\n",
        "\n",
        "    loss = F.cross_entropy(pred, label, reduction='none')\n",
        "\n",
        "    # apply weights and do the reduction\n",
        "    if weight is not None:\n",
        "        weight = weight.float()\n",
        "    loss = weight_reduce_loss(\n",
        "        loss, weight=weight, reduction=reduction, avg_factor=avg_factor)\n",
        "\n",
        "    return loss\n"
      ],
      "metadata": {
        "id": "bpuXgp2qyFit"
      },
      "execution_count": null,
      "outputs": []
    },
    {
      "cell_type": "code",
      "source": [
        "def partial_cross_entropy(pred,\n",
        "                          label,\n",
        "                          weight=None,\n",
        "                          reduction='mean',\n",
        "                          avg_factor=None):\n",
        "    if pred.dim() != label.dim():\n",
        "        label, weight = _expand_binary_labels(label, weight, pred.size(-1))\n",
        "\n",
        "    # weighted element-wise losses\n",
        "    if weight is not None:\n",
        "        weight = weight.float()\n",
        "\n",
        "    mask = label == -1\n",
        "    loss = F.binary_cross_entropy_with_logits(\n",
        "        pred, label.float(), weight, reduction='none')\n",
        "    if mask.sum() > 0:\n",
        "        loss *= (1-mask).float()\n",
        "        avg_factor = (1-mask).float().sum()\n",
        "\n",
        "    # do the reduction for the weighted loss\n",
        "    loss = weight_reduce_loss(loss, reduction=reduction, avg_factor=avg_factor)\n",
        "\n",
        "    return loss"
      ],
      "metadata": {
        "id": "EtjKnI8dyLkD"
      },
      "execution_count": null,
      "outputs": []
    },
    {
      "cell_type": "code",
      "execution_count": null,
      "metadata": {
        "id": "b0XUHerFY2jd"
      },
      "outputs": [],
      "source": [
        "def criterion(outputs1,  targets):\n",
        "\n",
        "    # criterion =AsymmetricLoss()\n",
        "    # print(outputs1)\n",
        "    criterion=ResampleLoss(reweight_func='rebalance', loss_weight=1.0,\n",
        "                             focal=dict(focal=True, alpha=0.5, gamma=2),\n",
        "                             logit_reg=dict(init_bias=0.05, neg_scale=2.0),\n",
        "                             map_param=dict(alpha=0.1, beta=10.0, gamma=0.05), \n",
        "                             class_freq=class_freq, train_num=len(y_train))\n",
        "    # criterion =Recall_Loss()\n",
        "    \n",
        "    loss = criterion(outputs1, targets)\n",
        "    return loss"
      ]
    },
    {
      "cell_type": "code",
      "source": [
        "import random\n",
        "import numpy as np\n",
        "\n",
        "from torch.utils.data.sampler import Sampler\n",
        "\n",
        "\n",
        "class MultilabelBalancedRandomSampler(Sampler):\n",
        "    \"\"\"\n",
        "    MultilabelBalancedRandomSampler: Given a multilabel dataset of length n_samples and\n",
        "    number of classes n_classes, samples from the data with equal probability per class\n",
        "    effectively oversampling minority classes and undersampling majority classes at the\n",
        "    same time. Note that using this sampler does not guarantee that the distribution of\n",
        "    classes in the output samples will be uniform, since the dataset is multilabel and\n",
        "    sampling is based on a single class. This does however guarantee that all classes\n",
        "    will have at least batch_size / n_classes samples as batch_size approaches infinity\n",
        "    \"\"\"\n",
        "\n",
        "    def __init__(self, labels, indices=None, class_choice=\"least_sampled\"):\n",
        "        \"\"\"\n",
        "        Parameters:\n",
        "        -----------\n",
        "            labels: a multi-hot encoding numpy array of shape (n_samples, n_classes)\n",
        "            indices: an arbitrary-length 1-dimensional numpy array representing a list\n",
        "            of indices to sample only from\n",
        "            class_choice: a string indicating how class will be selected for every\n",
        "            sample:\n",
        "                \"least_sampled\": class with the least number of sampled labels so far\n",
        "                \"random\": class is chosen uniformly at random\n",
        "                \"cycle\": the sampler cycles through the classes sequentially\n",
        "        \"\"\"\n",
        "        self.labels = labels\n",
        "        self.indices = indices\n",
        "        if self.indices is None:\n",
        "            self.indices = range(len(labels))\n",
        "\n",
        "        self.num_classes = self.labels.shape[1]\n",
        "\n",
        "        # List of lists of example indices per class\n",
        "        self.class_indices = []\n",
        "        for class_ in range(self.num_classes):\n",
        "            lst = np.where(self.labels[:, class_] == 1)[0]\n",
        "            lst = lst[np.isin(lst, self.indices)]\n",
        "            self.class_indices.append(lst)\n",
        "\n",
        "        self.counts = [0] * self.num_classes\n",
        "\n",
        "        assert class_choice in [\"least_sampled\", \"random\", \"cycle\"]\n",
        "        self.class_choice = class_choice\n",
        "        self.current_class = 0\n",
        "\n",
        "    def __iter__(self):\n",
        "        self.count = 0\n",
        "        return self\n",
        "\n",
        "    def __next__(self):\n",
        "        if self.count >= len(self.indices):\n",
        "            raise StopIteration\n",
        "        self.count += 1\n",
        "        return self.sample()\n",
        "\n",
        "    def sample(self):\n",
        "        class_ = self.get_class()\n",
        "        class_indices = self.class_indices[class_]\n",
        "        chosen_index = np.random.choice(class_indices)\n",
        "        if self.class_choice == \"least_sampled\":\n",
        "            for class_, indicator in enumerate(self.labels[chosen_index]):\n",
        "                if indicator == 1:\n",
        "                    self.counts[class_] += 1\n",
        "        return chosen_index\n",
        "\n",
        "    def get_class(self):\n",
        "        if self.class_choice == \"random\":\n",
        "            class_ = random.randint(0, self.labels.shape[1] - 1)\n",
        "        elif self.class_choice == \"cycle\":\n",
        "            class_ = self.current_class\n",
        "            self.current_class = (self.current_class + 1) % self.labels.shape[1]\n",
        "        elif self.class_choice == \"least_sampled\":\n",
        "            min_count = self.counts[0]\n",
        "            min_classes = [0]\n",
        "            for class_ in range(1, self.num_classes):\n",
        "                if self.counts[class_] < min_count:\n",
        "                    min_count = self.counts[class_]\n",
        "                    min_classes = [class_]\n",
        "                if self.counts[class_] == min_count:\n",
        "                    min_classes.append(class_)\n",
        "            class_ = np.random.choice(min_classes)\n",
        "        return class_\n",
        "\n",
        "    def __len__(self):\n",
        "        return len(self.indices)"
      ],
      "metadata": {
        "id": "Zeh7f_UdC6dh"
      },
      "execution_count": null,
      "outputs": []
    },
    {
      "cell_type": "code",
      "execution_count": null,
      "metadata": {
        "id": "kRX0b55VaxmS"
      },
      "outputs": [],
      "source": [
        "CONFIG = {\"seed\": 2021,\n",
        "          \"epochs\": 5,\n",
        "          \"model_name\": \"xlnet-base-cased\",\n",
        "          \"train_batch_size\": 16,\n",
        "          \"valid_batch_size\": 64,\n",
        "          \"max_length\": 120,\n",
        "          \"learning_rate\": 1e-4,\n",
        "          \"scheduler\": 'CosineAnnealingLR',\n",
        "          \"min_lr\": 1e-6,\n",
        "          \"T_max\": 500,\n",
        "          \"weight_decay\": 1e-6,\n",
        "          \"n_fold\": 5,\n",
        "          \"n_accumulate\": 1,\n",
        "          \"num_classes\": 1,\n",
        "          \"margin\": 0.5,\n",
        "          \"device\": torch.device(\"cuda:0\" if torch.cuda.is_available() else \"cpu\"),\n",
        "          }"
      ]
    },
    {
      "cell_type": "code",
      "execution_count": null,
      "metadata": {
        "id": "4afl1P8LaD07"
      },
      "outputs": [],
      "source": [
        "def train_one_epoch(model, optimizer, scheduler, dataloader, device, epoch):\n",
        "    model.train()\n",
        "    \n",
        "    dataset_size = 0\n",
        "    running_loss = 0.0\n",
        "    \n",
        "    bar = tqdm(enumerate(dataloader), total=len(dataloader))\n",
        "    for step, data in bar:\n",
        "        \n",
        "        text_ids = data['text_ids'].to(device, dtype = torch.long)\n",
        "        text_mask = data['text_mask'].to(device, dtype = torch.long)\n",
        "        targets = data['target'].to(device, dtype=torch.long)\n",
        "        # print(text_ids.shape)\n",
        "        \n",
        "        batch_size = text_ids.size(0)\n",
        "        # print(targets)\n",
        "\n",
        "        outputs = model(text_ids, text_mask)\n",
        "        # print(outputs.shape)\n",
        "        \n",
        "        # print(outputs.shape)\n",
        "\n",
        "        \n",
        "        loss = criterion(outputs, targets)\n",
        "        loss = loss / CONFIG['n_accumulate']\n",
        "        loss.backward()\n",
        "    \n",
        "        if (step + 1) % CONFIG['n_accumulate'] == 0:\n",
        "            optimizer.step()\n",
        "\n",
        "            # zero the parameter gradients\n",
        "            optimizer.zero_grad()\n",
        "\n",
        "            if scheduler is not None:\n",
        "                scheduler.step()\n",
        "                \n",
        "        running_loss += (loss.item() * batch_size)\n",
        "        dataset_size += batch_size\n",
        "        \n",
        "        epoch_loss = running_loss / dataset_size\n",
        "        \n",
        "        bar.set_postfix(Epoch=epoch, Train_Loss=epoch_loss,\n",
        "                        LR=optimizer.param_groups[0]['lr'])\n",
        "    gc.collect()\n",
        "    \n",
        "    return epoch_loss"
      ]
    },
    {
      "cell_type": "code",
      "execution_count": null,
      "metadata": {
        "id": "JdWI_KWRafLZ"
      },
      "outputs": [],
      "source": [
        "@torch.no_grad()\n",
        "def valid_one_epoch(model, dataloader, device, epoch):\n",
        "    model.eval()\n",
        "    \n",
        "    dataset_size = 0\n",
        "    running_loss = 0.0\n",
        "    \n",
        "    bar = tqdm(enumerate(dataloader), total=len(dataloader))\n",
        "    for step, data in bar:        \n",
        "        \n",
        "        text_ids = data['text_ids'].to(device, dtype = torch.long)\n",
        "        text_mask = data['text_mask'].to(device, dtype = torch.long)\n",
        "        targets = data['target'].to(device, dtype=torch.long)\n",
        "        # print(text_ids.shape)\n",
        "        \n",
        "        batch_size = text_ids.size(0)\n",
        "\n",
        "        outputs = model(text_ids, text_mask)\n",
        "        # outputs = outputs.argmax(dim=1)\n",
        "        \n",
        "        loss = criterion(outputs, targets)\n",
        "        \n",
        "        running_loss += (loss.item() * batch_size)\n",
        "        dataset_size += batch_size\n",
        "        \n",
        "        epoch_loss = running_loss / dataset_size\n",
        "        \n",
        "        bar.set_postfix(Epoch=epoch, Valid_Loss=epoch_loss,\n",
        "                        LR=optimizer.param_groups[0]['lr'])   \n",
        "    \n",
        "    gc.collect()\n",
        "    \n",
        "    return epoch_loss"
      ]
    },
    {
      "cell_type": "code",
      "execution_count": null,
      "metadata": {
        "id": "q1wtBAJJbEou"
      },
      "outputs": [],
      "source": [
        "def run_training(model, optimizer, scheduler, device, num_epochs, fold):\n",
        "    # To automatically log gradients\n",
        "    \n",
        "    if torch.cuda.is_available():\n",
        "        print(\"[INFO] Using GPU: {}\\n\".format(torch.cuda.get_device_name()))\n",
        "    \n",
        "    start = time.time()\n",
        "    best_model_wts = copy.deepcopy(model.state_dict())\n",
        "    best_epoch_loss = np.inf\n",
        "    history = defaultdict(list)\n",
        "    \n",
        "    for epoch in range(1, num_epochs + 1): \n",
        "        gc.collect()\n",
        "        train_epoch_loss = train_one_epoch(model, optimizer, scheduler, \n",
        "                                           dataloader=train_loader, \n",
        "                                           device=CONFIG['device'], epoch=epoch)\n",
        "        \n",
        "        val_epoch_loss = valid_one_epoch(model, valid_loader, device=CONFIG['device'], \n",
        "                                         epoch=epoch)\n",
        "    \n",
        "        history['Train Loss'].append(train_epoch_loss)\n",
        "        history['Valid Loss'].append(val_epoch_loss)\n",
        "        \n",
        "       \n",
        "        \n",
        "        # deep copy the model\n",
        "        if val_epoch_loss <= best_epoch_loss:\n",
        "            print(f\"Validation Loss Improved ({best_epoch_loss} ---> {val_epoch_loss})\")\n",
        "            best_epoch_loss = val_epoch_loss\n",
        "            best_model_wts = copy.deepcopy(model.state_dict())\n",
        "            PATH = f\"/content/drive/MyDrive/ISarcasm/Models_Task_B/roberta_base_balance_loss/Loss-Fold-{fold}.bin\"\n",
        "            torch.save(model.state_dict(), PATH)\n",
        "            # Save a model file from the current directory\n",
        "            print(\"Model Saved\")\n",
        "            \n",
        "        print()\n",
        "    \n",
        "    end = time.time()\n",
        "    time_elapsed = end - start\n",
        "    print('Training complete in {:.0f}h {:.0f}m {:.0f}s'.format(\n",
        "        time_elapsed // 3600, (time_elapsed % 3600) // 60, (time_elapsed % 3600) % 60))\n",
        "    print(\"Best Loss: {:.4f}\".format(best_epoch_loss))\n",
        "    \n",
        "    # load best model weights\n",
        "    model.load_state_dict(best_model_wts)\n",
        "    \n",
        "    return model, history"
      ]
    },
    {
      "cell_type": "code",
      "execution_count": null,
      "metadata": {
        "id": "WSXiJa2-bRiX"
      },
      "outputs": [],
      "source": [
        "def fetch_scheduler(optimizer):\n",
        "    if CONFIG['scheduler'] == 'CosineAnnealingLR':\n",
        "        scheduler = lr_scheduler.CosineAnnealingLR(optimizer,T_max=CONFIG['T_max'], \n",
        "                                                   eta_min=CONFIG['min_lr'])\n",
        "    elif CONFIG['scheduler'] == 'CosineAnnealingWarmRestarts':\n",
        "        scheduler = lr_scheduler.CosineAnnealingWarmRestarts(optimizer,T_0=CONFIG['T_0'], \n",
        "                                                             eta_min=CONFIG['min_lr'])\n",
        "    elif CONFIG['scheduler'] == None:\n",
        "        return None\n",
        "        \n",
        "    return scheduler"
      ]
    },
    {
      "cell_type": "code",
      "execution_count": null,
      "metadata": {
        "id": "B6nXhK_ObVNe"
      },
      "outputs": [],
      "source": [
        "def prepare_loaders(fold):\n",
        "    displacemnt_list=[0,512,1024,1536,2048,2560,3072,3584,4096,4608,4950]\n",
        "    df_train = train[train.kfold != fold].reset_index(drop=True)\n",
        "    df_valid = train[train.kfold == fold].reset_index(drop=True)\n",
        "# https://github.com/issamemari/pytorch-multilabel-balanced-sampler/blob/master/example.py\n",
        "    sampler = MultilabelBalancedRandomSampler(df_train[['sarcasm', 'irony',\n",
        "       'satire', 'understatement', 'overstatement', 'rhetorical_question']].values,class_choice='cycle')\n",
        "    \n",
        "    train_dataset = PCLTrainDataset(df_train, tokenizer=tokenizer, max_length=CONFIG['max_length'],displacemnt=displacemnt_list[fold])\n",
        "    valid_dataset = PCLTrainDataset(df_valid, tokenizer=tokenizer, max_length=CONFIG['max_length'],displacemnt=displacemnt_list[fold])\n",
        "\n",
        "    train_loader = DataLoader(train_dataset, batch_size=CONFIG['train_batch_size'], \n",
        "                              num_workers=2, shuffle=False, pin_memory=True, drop_last=True,sampler=sampler)\n",
        "    valid_loader = DataLoader(valid_dataset, batch_size=CONFIG['valid_batch_size'], \n",
        "                              num_workers=2, shuffle=False, pin_memory=True)\n",
        "    \n",
        "    return train_loader, valid_loader"
      ]
    },
    {
      "cell_type": "code",
      "source": [
        "!pip install iterative-stratification\n"
      ],
      "metadata": {
        "colab": {
          "base_uri": "https://localhost:8080/"
        },
        "id": "HnUKG2cbOYcK",
        "outputId": "b6d2c74a-fc1b-4deb-fb15-5050e310dee9"
      },
      "execution_count": null,
      "outputs": [
        {
          "output_type": "stream",
          "name": "stdout",
          "text": [
            "Requirement already satisfied: iterative-stratification in /usr/local/lib/python3.7/dist-packages (0.1.7)\n",
            "Requirement already satisfied: scipy in /usr/local/lib/python3.7/dist-packages (from iterative-stratification) (1.4.1)\n",
            "Requirement already satisfied: scikit-learn in /usr/local/lib/python3.7/dist-packages (from iterative-stratification) (1.0.2)\n",
            "Requirement already satisfied: numpy in /usr/local/lib/python3.7/dist-packages (from iterative-stratification) (1.19.5)\n",
            "Requirement already satisfied: joblib>=0.11 in /usr/local/lib/python3.7/dist-packages (from scikit-learn->iterative-stratification) (1.1.0)\n",
            "Requirement already satisfied: threadpoolctl>=2.0.0 in /usr/local/lib/python3.7/dist-packages (from scikit-learn->iterative-stratification) (3.0.0)\n"
          ]
        }
      ]
    },
    {
      "cell_type": "code",
      "source": [
        "from iterstrat.ml_stratifiers import MultilabelStratifiedKFold\n"
      ],
      "metadata": {
        "id": "wS6M9GV6Obb2"
      },
      "execution_count": null,
      "outputs": []
    },
    {
      "cell_type": "code",
      "source": [
        "mskf = MultilabelStratifiedKFold(n_splits=CONFIG['n_fold'], shuffle=True, random_state=CONFIG['seed'])\n",
        "for fold, ( _, val_) in enumerate(mskf.split(train, train[['sarcasm', 'irony',\n",
        "       'satire', 'understatement', 'overstatement', 'rhetorical_question']].values)):\n",
        "  train.loc[val_ , \"kfold\"] = int(fold)\n",
        "\n",
        "train[\"kfold\"] = train[\"kfold\"].astype(int)"
      ],
      "metadata": {
        "id": "EovWKseHOf0l"
      },
      "execution_count": null,
      "outputs": []
    },
    {
      "cell_type": "code",
      "execution_count": null,
      "metadata": {
        "id": "vOtw3nW-2X58"
      },
      "outputs": [],
      "source": [
        "# del model,train_loader, valid_loader"
      ]
    },
    {
      "cell_type": "code",
      "execution_count": null,
      "metadata": {
        "id": "HoQghNKN2Cy2",
        "colab": {
          "base_uri": "https://localhost:8080/"
        },
        "outputId": "82b118cf-163c-4697-dd52-2973aa5e4240"
      },
      "outputs": [
        {
          "output_type": "execute_result",
          "data": {
            "text/plain": [
              "130"
            ]
          },
          "metadata": {},
          "execution_count": 45
        }
      ],
      "source": [
        "import gc\n",
        "gc.collect()"
      ]
    },
    {
      "cell_type": "markdown",
      "source": [
        "http://seekinginference.com/applied_nlp/bert-cnn.html"
      ],
      "metadata": {
        "id": "QCwmBcvPlNaO"
      }
    },
    {
      "cell_type": "code",
      "source": [
        "torch.autograd.set_detect_anomaly(True)"
      ],
      "metadata": {
        "colab": {
          "base_uri": "https://localhost:8080/"
        },
        "id": "Mlbu5o9uzyWv",
        "outputId": "37351fe9-45b1-4b94-f95a-129ba4a69f04"
      },
      "execution_count": null,
      "outputs": [
        {
          "output_type": "execute_result",
          "data": {
            "text/plain": [
              "<torch.autograd.anomaly_mode.set_detect_anomaly at 0x7f05d8e26d90>"
            ]
          },
          "metadata": {},
          "execution_count": 46
        }
      ]
    },
    {
      "cell_type": "code",
      "execution_count": null,
      "metadata": {
        "id": "cXC4SsiDbbGR",
        "colab": {
          "base_uri": "https://localhost:8080/"
        },
        "outputId": "28f1da8e-e271-466e-de71-6a79238ad209"
      },
      "outputs": [
        {
          "output_type": "stream",
          "name": "stdout",
          "text": [
            "====== Fold: 0 ======\n"
          ]
        },
        {
          "output_type": "stream",
          "name": "stderr",
          "text": [
            "Some weights of the model checkpoint at roberta-base were not used when initializing RobertaModel: ['lm_head.bias', 'lm_head.dense.bias', 'lm_head.decoder.weight', 'lm_head.layer_norm.weight', 'lm_head.layer_norm.bias', 'lm_head.dense.weight']\n",
            "- This IS expected if you are initializing RobertaModel from the checkpoint of a model trained on another task or with another architecture (e.g. initializing a BertForSequenceClassification model from a BertForPreTraining model).\n",
            "- This IS NOT expected if you are initializing RobertaModel from the checkpoint of a model that you expect to be exactly identical (initializing a BertForSequenceClassification model from a BertForSequenceClassification model).\n"
          ]
        },
        {
          "output_type": "stream",
          "name": "stdout",
          "text": [
            "[INFO] Using GPU: Tesla T4\n",
            "\n"
          ]
        },
        {
          "output_type": "stream",
          "name": "stderr",
          "text": [
            "100%|██████████| 34/34 [00:38<00:00,  1.13s/it, Epoch=1, LR=9.89e-5, Train_Loss=0.0398]\n",
            "100%|██████████| 3/3 [00:01<00:00,  2.36it/s, Epoch=1, LR=9.89e-5, Valid_Loss=0.0291]\n"
          ]
        },
        {
          "output_type": "stream",
          "name": "stdout",
          "text": [
            "Validation Loss Improved (inf ---> 0.029066753285608704)\n",
            "Model Saved\n",
            "\n"
          ]
        },
        {
          "output_type": "stream",
          "name": "stderr",
          "text": [
            "100%|██████████| 34/34 [00:39<00:00,  1.16s/it, Epoch=2, LR=9.56e-5, Train_Loss=0.0207]\n",
            "100%|██████████| 3/3 [00:01<00:00,  2.39it/s, Epoch=2, LR=9.56e-5, Valid_Loss=0.0302]"
          ]
        },
        {
          "output_type": "stream",
          "name": "stdout",
          "text": [
            "\n"
          ]
        },
        {
          "output_type": "stream",
          "name": "stderr",
          "text": [
            "\n",
            "100%|██████████| 34/34 [00:38<00:00,  1.13s/it, Epoch=3, LR=9.02e-5, Train_Loss=0.0144]\n",
            "100%|██████████| 3/3 [00:01<00:00,  2.40it/s, Epoch=3, LR=9.02e-5, Valid_Loss=0.0334]\n"
          ]
        },
        {
          "output_type": "stream",
          "name": "stdout",
          "text": [
            "\n"
          ]
        },
        {
          "output_type": "stream",
          "name": "stderr",
          "text": [
            "100%|██████████| 34/34 [00:38<00:00,  1.14s/it, Epoch=4, LR=8.3e-5, Train_Loss=0.00811]\n",
            "100%|██████████| 3/3 [00:01<00:00,  2.39it/s, Epoch=4, LR=8.3e-5, Valid_Loss=0.0345]"
          ]
        },
        {
          "output_type": "stream",
          "name": "stdout",
          "text": [
            "\n"
          ]
        },
        {
          "output_type": "stream",
          "name": "stderr",
          "text": [
            "\n",
            "100%|██████████| 34/34 [00:38<00:00,  1.13s/it, Epoch=5, LR=7.43e-5, Train_Loss=0.00803]\n",
            "100%|██████████| 3/3 [00:01<00:00,  2.37it/s, Epoch=5, LR=7.43e-5, Valid_Loss=0.0305]\n"
          ]
        },
        {
          "output_type": "stream",
          "name": "stdout",
          "text": [
            "\n",
            "Training complete in 0h 3m 26s\n",
            "Best Loss: 0.0291\n",
            "\n",
            "====== Fold: 1 ======\n"
          ]
        },
        {
          "output_type": "stream",
          "name": "stderr",
          "text": [
            "Some weights of the model checkpoint at roberta-base were not used when initializing RobertaModel: ['lm_head.bias', 'lm_head.dense.bias', 'lm_head.decoder.weight', 'lm_head.layer_norm.weight', 'lm_head.layer_norm.bias', 'lm_head.dense.weight']\n",
            "- This IS expected if you are initializing RobertaModel from the checkpoint of a model trained on another task or with another architecture (e.g. initializing a BertForSequenceClassification model from a BertForPreTraining model).\n",
            "- This IS NOT expected if you are initializing RobertaModel from the checkpoint of a model that you expect to be exactly identical (initializing a BertForSequenceClassification model from a BertForSequenceClassification model).\n"
          ]
        },
        {
          "output_type": "stream",
          "name": "stdout",
          "text": [
            "[INFO] Using GPU: Tesla T4\n",
            "\n"
          ]
        },
        {
          "output_type": "stream",
          "name": "stderr",
          "text": [
            "100%|██████████| 34/34 [00:38<00:00,  1.14s/it, Epoch=1, LR=9.89e-5, Train_Loss=0.0479]\n",
            "100%|██████████| 3/3 [00:01<00:00,  2.39it/s, Epoch=1, LR=9.89e-5, Valid_Loss=0.0344]\n"
          ]
        },
        {
          "output_type": "stream",
          "name": "stdout",
          "text": [
            "Validation Loss Improved (inf ---> 0.03440819022016249)\n",
            "Model Saved\n",
            "\n"
          ]
        },
        {
          "output_type": "stream",
          "name": "stderr",
          "text": [
            "100%|██████████| 34/34 [00:39<00:00,  1.16s/it, Epoch=2, LR=9.56e-5, Train_Loss=0.0361]\n",
            "100%|██████████| 3/3 [00:01<00:00,  2.43it/s, Epoch=2, LR=9.56e-5, Valid_Loss=0.0285]\n"
          ]
        },
        {
          "output_type": "stream",
          "name": "stdout",
          "text": [
            "Validation Loss Improved (0.03440819022016249 ---> 0.02850274201752483)\n",
            "Model Saved\n",
            "\n"
          ]
        },
        {
          "output_type": "stream",
          "name": "stderr",
          "text": [
            "100%|██████████| 34/34 [00:39<00:00,  1.16s/it, Epoch=3, LR=9.02e-5, Train_Loss=0.0238]\n",
            "100%|██████████| 3/3 [00:01<00:00,  2.44it/s, Epoch=3, LR=9.02e-5, Valid_Loss=0.0386]\n"
          ]
        },
        {
          "output_type": "stream",
          "name": "stdout",
          "text": [
            "\n"
          ]
        },
        {
          "output_type": "stream",
          "name": "stderr",
          "text": [
            "100%|██████████| 34/34 [00:38<00:00,  1.14s/it, Epoch=4, LR=8.3e-5, Train_Loss=0.0151]\n",
            "100%|██████████| 3/3 [00:01<00:00,  2.41it/s, Epoch=4, LR=8.3e-5, Valid_Loss=0.0462]\n"
          ]
        },
        {
          "output_type": "stream",
          "name": "stdout",
          "text": [
            "\n"
          ]
        },
        {
          "output_type": "stream",
          "name": "stderr",
          "text": [
            "100%|██████████| 34/34 [00:38<00:00,  1.14s/it, Epoch=5, LR=7.43e-5, Train_Loss=0.0153]\n",
            "100%|██████████| 3/3 [00:01<00:00,  2.41it/s, Epoch=5, LR=7.43e-5, Valid_Loss=0.055]\n"
          ]
        },
        {
          "output_type": "stream",
          "name": "stdout",
          "text": [
            "\n",
            "Training complete in 0h 3m 30s\n",
            "Best Loss: 0.0285\n",
            "\n",
            "====== Fold: 2 ======\n"
          ]
        },
        {
          "output_type": "stream",
          "name": "stderr",
          "text": [
            "Some weights of the model checkpoint at roberta-base were not used when initializing RobertaModel: ['lm_head.bias', 'lm_head.dense.bias', 'lm_head.decoder.weight', 'lm_head.layer_norm.weight', 'lm_head.layer_norm.bias', 'lm_head.dense.weight']\n",
            "- This IS expected if you are initializing RobertaModel from the checkpoint of a model trained on another task or with another architecture (e.g. initializing a BertForSequenceClassification model from a BertForPreTraining model).\n",
            "- This IS NOT expected if you are initializing RobertaModel from the checkpoint of a model that you expect to be exactly identical (initializing a BertForSequenceClassification model from a BertForSequenceClassification model).\n"
          ]
        },
        {
          "output_type": "stream",
          "name": "stdout",
          "text": [
            "[INFO] Using GPU: Tesla T4\n",
            "\n"
          ]
        },
        {
          "output_type": "stream",
          "name": "stderr",
          "text": [
            "100%|██████████| 34/34 [00:38<00:00,  1.14s/it, Epoch=1, LR=9.89e-5, Train_Loss=0.0405]\n",
            "100%|██████████| 3/3 [00:01<00:00,  2.33it/s, Epoch=1, LR=9.89e-5, Valid_Loss=0.0281]\n"
          ]
        },
        {
          "output_type": "stream",
          "name": "stdout",
          "text": [
            "Validation Loss Improved (inf ---> 0.028128883084483285)\n",
            "Model Saved\n",
            "\n"
          ]
        },
        {
          "output_type": "stream",
          "name": "stderr",
          "text": [
            "100%|██████████| 34/34 [00:39<00:00,  1.16s/it, Epoch=2, LR=9.56e-5, Train_Loss=0.0225]\n",
            "100%|██████████| 3/3 [00:01<00:00,  2.34it/s, Epoch=2, LR=9.56e-5, Valid_Loss=0.0261]\n"
          ]
        },
        {
          "output_type": "stream",
          "name": "stdout",
          "text": [
            "Validation Loss Improved (0.028128883084483285 ---> 0.026120854930268774)\n",
            "Model Saved\n",
            "\n"
          ]
        },
        {
          "output_type": "stream",
          "name": "stderr",
          "text": [
            "100%|██████████| 34/34 [00:39<00:00,  1.16s/it, Epoch=3, LR=9.02e-5, Train_Loss=0.0132]\n",
            "100%|██████████| 3/3 [00:01<00:00,  2.37it/s, Epoch=3, LR=9.02e-5, Valid_Loss=0.0265]\n"
          ]
        },
        {
          "output_type": "stream",
          "name": "stdout",
          "text": [
            "\n"
          ]
        },
        {
          "output_type": "stream",
          "name": "stderr",
          "text": [
            "100%|██████████| 34/34 [00:38<00:00,  1.13s/it, Epoch=4, LR=8.3e-5, Train_Loss=0.00804]\n",
            "100%|██████████| 3/3 [00:01<00:00,  2.35it/s, Epoch=4, LR=8.3e-5, Valid_Loss=0.0369]\n"
          ]
        },
        {
          "output_type": "stream",
          "name": "stdout",
          "text": [
            "\n"
          ]
        },
        {
          "output_type": "stream",
          "name": "stderr",
          "text": [
            "100%|██████████| 34/34 [00:38<00:00,  1.14s/it, Epoch=5, LR=7.43e-5, Train_Loss=0.00817]\n",
            "100%|██████████| 3/3 [00:01<00:00,  2.34it/s, Epoch=5, LR=7.43e-5, Valid_Loss=0.0358]\n"
          ]
        },
        {
          "output_type": "stream",
          "name": "stdout",
          "text": [
            "\n",
            "Training complete in 0h 3m 30s\n",
            "Best Loss: 0.0261\n",
            "\n",
            "====== Fold: 3 ======\n"
          ]
        },
        {
          "output_type": "stream",
          "name": "stderr",
          "text": [
            "Some weights of the model checkpoint at roberta-base were not used when initializing RobertaModel: ['lm_head.bias', 'lm_head.dense.bias', 'lm_head.decoder.weight', 'lm_head.layer_norm.weight', 'lm_head.layer_norm.bias', 'lm_head.dense.weight']\n",
            "- This IS expected if you are initializing RobertaModel from the checkpoint of a model trained on another task or with another architecture (e.g. initializing a BertForSequenceClassification model from a BertForPreTraining model).\n",
            "- This IS NOT expected if you are initializing RobertaModel from the checkpoint of a model that you expect to be exactly identical (initializing a BertForSequenceClassification model from a BertForSequenceClassification model).\n"
          ]
        },
        {
          "output_type": "stream",
          "name": "stdout",
          "text": [
            "[INFO] Using GPU: Tesla T4\n",
            "\n"
          ]
        },
        {
          "output_type": "stream",
          "name": "stderr",
          "text": [
            "100%|██████████| 34/34 [00:38<00:00,  1.14s/it, Epoch=1, LR=9.89e-5, Train_Loss=0.0392]\n",
            "100%|██████████| 3/3 [00:01<00:00,  2.35it/s, Epoch=1, LR=9.89e-5, Valid_Loss=0.0306]\n"
          ]
        },
        {
          "output_type": "stream",
          "name": "stdout",
          "text": [
            "Validation Loss Improved (inf ---> 0.030571568636692685)\n",
            "Model Saved\n",
            "\n"
          ]
        },
        {
          "output_type": "stream",
          "name": "stderr",
          "text": [
            "100%|██████████| 34/34 [00:39<00:00,  1.15s/it, Epoch=2, LR=9.56e-5, Train_Loss=0.0203]\n",
            "100%|██████████| 3/3 [00:01<00:00,  2.32it/s, Epoch=2, LR=9.56e-5, Valid_Loss=0.0305]\n"
          ]
        },
        {
          "output_type": "stream",
          "name": "stdout",
          "text": [
            "Validation Loss Improved (0.030571568636692685 ---> 0.030477241994880087)\n",
            "Model Saved\n",
            "\n"
          ]
        },
        {
          "output_type": "stream",
          "name": "stderr",
          "text": [
            "100%|██████████| 34/34 [00:39<00:00,  1.15s/it, Epoch=3, LR=9.02e-5, Train_Loss=0.0133]\n",
            "100%|██████████| 3/3 [00:01<00:00,  2.33it/s, Epoch=3, LR=9.02e-5, Valid_Loss=0.0317]\n"
          ]
        },
        {
          "output_type": "stream",
          "name": "stdout",
          "text": [
            "\n"
          ]
        },
        {
          "output_type": "stream",
          "name": "stderr",
          "text": [
            "100%|██████████| 34/34 [00:38<00:00,  1.13s/it, Epoch=4, LR=8.3e-5, Train_Loss=0.00926]\n",
            "100%|██████████| 3/3 [00:01<00:00,  2.36it/s, Epoch=4, LR=8.3e-5, Valid_Loss=0.0293]\n"
          ]
        },
        {
          "output_type": "stream",
          "name": "stdout",
          "text": [
            "Validation Loss Improved (0.030477241994880087 ---> 0.029253735535329194)\n",
            "Model Saved\n",
            "\n"
          ]
        },
        {
          "output_type": "stream",
          "name": "stderr",
          "text": [
            "100%|██████████| 34/34 [00:39<00:00,  1.16s/it, Epoch=5, LR=7.43e-5, Train_Loss=0.00583]\n",
            "100%|██████████| 3/3 [00:01<00:00,  2.37it/s, Epoch=5, LR=7.43e-5, Valid_Loss=0.0331]\n"
          ]
        },
        {
          "output_type": "stream",
          "name": "stdout",
          "text": [
            "\n",
            "Training complete in 0h 3m 33s\n",
            "Best Loss: 0.0293\n",
            "\n",
            "====== Fold: 4 ======\n"
          ]
        },
        {
          "output_type": "stream",
          "name": "stderr",
          "text": [
            "Some weights of the model checkpoint at roberta-base were not used when initializing RobertaModel: ['lm_head.bias', 'lm_head.dense.bias', 'lm_head.decoder.weight', 'lm_head.layer_norm.weight', 'lm_head.layer_norm.bias', 'lm_head.dense.weight']\n",
            "- This IS expected if you are initializing RobertaModel from the checkpoint of a model trained on another task or with another architecture (e.g. initializing a BertForSequenceClassification model from a BertForPreTraining model).\n",
            "- This IS NOT expected if you are initializing RobertaModel from the checkpoint of a model that you expect to be exactly identical (initializing a BertForSequenceClassification model from a BertForSequenceClassification model).\n"
          ]
        },
        {
          "output_type": "stream",
          "name": "stdout",
          "text": [
            "[INFO] Using GPU: Tesla T4\n",
            "\n"
          ]
        },
        {
          "output_type": "stream",
          "name": "stderr",
          "text": [
            "100%|██████████| 34/34 [00:38<00:00,  1.14s/it, Epoch=1, LR=9.89e-5, Train_Loss=0.0426]\n",
            "100%|██████████| 3/3 [00:01<00:00,  2.41it/s, Epoch=1, LR=9.89e-5, Valid_Loss=0.0325]\n"
          ]
        },
        {
          "output_type": "stream",
          "name": "stdout",
          "text": [
            "Validation Loss Improved (inf ---> 0.032473630879236305)\n",
            "Model Saved\n",
            "\n"
          ]
        },
        {
          "output_type": "stream",
          "name": "stderr",
          "text": [
            "100%|██████████| 34/34 [00:39<00:00,  1.15s/it, Epoch=2, LR=9.56e-5, Train_Loss=0.0254]\n",
            "100%|██████████| 3/3 [00:01<00:00,  2.41it/s, Epoch=2, LR=9.56e-5, Valid_Loss=0.0285]\n"
          ]
        },
        {
          "output_type": "stream",
          "name": "stdout",
          "text": [
            "Validation Loss Improved (0.032473630879236305 ---> 0.028542033842076427)\n",
            "Model Saved\n",
            "\n"
          ]
        },
        {
          "output_type": "stream",
          "name": "stderr",
          "text": [
            "100%|██████████| 34/34 [00:39<00:00,  1.15s/it, Epoch=3, LR=9.02e-5, Train_Loss=0.0171]\n",
            "100%|██████████| 3/3 [00:01<00:00,  2.43it/s, Epoch=3, LR=9.02e-5, Valid_Loss=0.0283]\n"
          ]
        },
        {
          "output_type": "stream",
          "name": "stdout",
          "text": [
            "Validation Loss Improved (0.028542033842076427 ---> 0.028277712185745655)\n",
            "Model Saved\n",
            "\n"
          ]
        },
        {
          "output_type": "stream",
          "name": "stderr",
          "text": [
            "100%|██████████| 34/34 [00:39<00:00,  1.16s/it, Epoch=4, LR=8.3e-5, Train_Loss=0.0116]\n",
            "100%|██████████| 3/3 [00:01<00:00,  2.42it/s, Epoch=4, LR=8.3e-5, Valid_Loss=0.0258]\n"
          ]
        },
        {
          "output_type": "stream",
          "name": "stdout",
          "text": [
            "Validation Loss Improved (0.028277712185745655 ---> 0.025837575530876285)\n",
            "Model Saved\n",
            "\n"
          ]
        },
        {
          "output_type": "stream",
          "name": "stderr",
          "text": [
            "100%|██████████| 34/34 [00:39<00:00,  1.16s/it, Epoch=5, LR=7.43e-5, Train_Loss=0.00767]\n",
            "100%|██████████| 3/3 [00:01<00:00,  2.42it/s, Epoch=5, LR=7.43e-5, Valid_Loss=0.0339]\n"
          ]
        },
        {
          "output_type": "stream",
          "name": "stdout",
          "text": [
            "\n",
            "Training complete in 0h 3m 35s\n",
            "Best Loss: 0.0258\n",
            "\n"
          ]
        }
      ],
      "source": [
        "for fold in range(0, CONFIG['n_fold']):\n",
        "    print(f\"====== Fold: {fold} ======\")\n",
        "\n",
        "    \n",
        "    # Create Dataloaders\n",
        "    train_loader, valid_loader = prepare_loaders(fold=fold)\n",
        "    \n",
        "    model = PCL_Model_Arch()\n",
        "    model.to(CONFIG['device'])\n",
        "    torch.cuda.empty_cache()\n",
        "    \n",
        "    # Define Optimizer and Scheduler\n",
        "    optimizer = AdamW(model.parameters(), lr=CONFIG['learning_rate'], weight_decay=CONFIG['weight_decay'])\n",
        "    scheduler = fetch_scheduler(optimizer)\n",
        "    \n",
        "    model, history = run_training(model, optimizer, scheduler,\n",
        "                                  device=CONFIG['device'],\n",
        "                                  num_epochs=CONFIG['epochs'],\n",
        "                                  fold=fold)\n",
        "    \n",
        "    \n",
        "    del model, history, train_loader, valid_loader\n",
        "    _ = gc.collect()\n",
        "    print()"
      ]
    },
    {
      "cell_type": "code",
      "source": [
        "test.dropna(inplace=True)"
      ],
      "metadata": {
        "id": "XSvm2lLPAf0i"
      },
      "execution_count": null,
      "outputs": []
    },
    {
      "cell_type": "code",
      "source": [
        "valid_dataset = PCLTrainDataset(test, tokenizer=tokenizer, max_length=CONFIG['max_length'],displacemnt=0)\n",
        "valid_loader = DataLoader(valid_dataset, batch_size=CONFIG['valid_batch_size'], \n",
        "                              num_workers=2, shuffle=False, pin_memory=True)"
      ],
      "metadata": {
        "id": "ujNNMM9HAGtl"
      },
      "execution_count": null,
      "outputs": []
    },
    {
      "cell_type": "code",
      "source": [
        "@torch.no_grad()\n",
        "def valid_fn(model, dataloader, device):\n",
        "    model.eval()\n",
        "    \n",
        "    dataset_size = 0\n",
        "    running_loss = 0.0\n",
        "    \n",
        "    PREDS = []\n",
        "    \n",
        "    bar = tqdm(enumerate(dataloader), total=len(dataloader))\n",
        "    for step, data in bar:\n",
        "        ids = data['text_ids'].to(device, dtype = torch.long)\n",
        "        mask = data['text_mask'].to(device, dtype = torch.long)\n",
        "        \n",
        "        outputs = model(ids, mask)\n",
        "        sig=nn.Sigmoid()\n",
        "        outputs=sig(outputs)\n",
        "        # outputs = outputs.argmax(dim=1)\n",
        "#         print(len(outputs))\n",
        "#         print(len(np.max(outputs.cpu().detach().numpy(),axis=1)))\n",
        "        PREDS.append(outputs.detach().cpu().numpy()) \n",
        "        # print(outputs.detach().cpu().numpy())\n",
        "    \n",
        "    PREDS = np.concatenate(PREDS)\n",
        "    gc.collect()\n",
        "    \n",
        "    return PREDS"
      ],
      "metadata": {
        "id": "piuXPwW433gP"
      },
      "execution_count": null,
      "outputs": []
    },
    {
      "cell_type": "code",
      "source": [
        "def inference(model_paths, dataloader, device):\n",
        "    final_preds = []\n",
        "    for i, path in enumerate(model_paths):\n",
        "        model = PCL_Model_Arch()\n",
        "        model.to(CONFIG['device'])\n",
        "        model.load_state_dict(torch.load(path))\n",
        "        \n",
        "        print(f\"Getting predictions for model {i+1}\")\n",
        "        preds = valid_fn(model, dataloader, device)\n",
        "        final_preds.append(preds)\n",
        "    \n",
        "    final_preds = np.array(final_preds)\n",
        "    # print(final_preds)\n",
        "    final_preds = np.mean(final_preds, axis=0)\n",
        "    # print(final_preds)\n",
        "    final_preds[final_preds>=0.5] = 1\n",
        "    final_preds[final_preds<0.5] = 0\n",
        "    # final_preds= np.argmax(final_preds,axis=1)\n",
        "    return final_preds"
      ],
      "metadata": {
        "id": "zaxyuvUP3Md0"
      },
      "execution_count": null,
      "outputs": []
    },
    {
      "cell_type": "markdown",
      "source": [
        "balaned loss + cycle sampling"
      ],
      "metadata": {
        "id": "TsNe2SCSJYus"
      }
    },
    {
      "cell_type": "code",
      "source": [
        "MODEL_PATH_2=['/content/drive/MyDrive/ISarcasm/Models_Task_B/roberta_base_balance_loss/Loss-Fold-0.bin','/content/drive/MyDrive/ISarcasm/Models_Task_B/roberta_base_balance_loss/Loss-Fold-1.bin','/content/drive/MyDrive/ISarcasm/Models_Task_B/roberta_base_balance_loss/Loss-Fold-2.bin','/content/drive/MyDrive/ISarcasm/Models_Task_B/roberta_base_balance_loss/Loss-Fold-3.bin','/content/drive/MyDrive/ISarcasm/Models_Task_B/roberta_base_balance_loss/Loss-Fold-4.bin']\n",
        "# MODEL_PATH_2=['/content/drive/MyDrive/ISarcasm/Models_Task_B/bert_tweet_kim_cnn/Loss-Fold-0.bin']\n",
        "preds = inference(MODEL_PATH_2, valid_loader, CONFIG['device'])"
      ],
      "metadata": {
        "colab": {
          "base_uri": "https://localhost:8080/"
        },
        "id": "167y243WJa7t",
        "outputId": "c0c07ca7-3dba-4690-d106-2962a8f6151a"
      },
      "execution_count": null,
      "outputs": [
        {
          "output_type": "stream",
          "name": "stderr",
          "text": [
            "Some weights of the model checkpoint at roberta-base were not used when initializing RobertaModel: ['lm_head.bias', 'lm_head.dense.bias', 'lm_head.decoder.weight', 'lm_head.layer_norm.weight', 'lm_head.layer_norm.bias', 'lm_head.dense.weight']\n",
            "- This IS expected if you are initializing RobertaModel from the checkpoint of a model trained on another task or with another architecture (e.g. initializing a BertForSequenceClassification model from a BertForPreTraining model).\n",
            "- This IS NOT expected if you are initializing RobertaModel from the checkpoint of a model that you expect to be exactly identical (initializing a BertForSequenceClassification model from a BertForSequenceClassification model).\n"
          ]
        },
        {
          "output_type": "stream",
          "name": "stdout",
          "text": [
            "Getting predictions for model 1\n"
          ]
        },
        {
          "output_type": "stream",
          "name": "stderr",
          "text": [
            "100%|██████████| 3/3 [00:01<00:00,  1.94it/s]\n",
            "Some weights of the model checkpoint at roberta-base were not used when initializing RobertaModel: ['lm_head.bias', 'lm_head.dense.bias', 'lm_head.decoder.weight', 'lm_head.layer_norm.weight', 'lm_head.layer_norm.bias', 'lm_head.dense.weight']\n",
            "- This IS expected if you are initializing RobertaModel from the checkpoint of a model trained on another task or with another architecture (e.g. initializing a BertForSequenceClassification model from a BertForPreTraining model).\n",
            "- This IS NOT expected if you are initializing RobertaModel from the checkpoint of a model that you expect to be exactly identical (initializing a BertForSequenceClassification model from a BertForSequenceClassification model).\n"
          ]
        },
        {
          "output_type": "stream",
          "name": "stdout",
          "text": [
            "Getting predictions for model 2\n"
          ]
        },
        {
          "output_type": "stream",
          "name": "stderr",
          "text": [
            "100%|██████████| 3/3 [00:01<00:00,  1.93it/s]\n",
            "Some weights of the model checkpoint at roberta-base were not used when initializing RobertaModel: ['lm_head.bias', 'lm_head.dense.bias', 'lm_head.decoder.weight', 'lm_head.layer_norm.weight', 'lm_head.layer_norm.bias', 'lm_head.dense.weight']\n",
            "- This IS expected if you are initializing RobertaModel from the checkpoint of a model trained on another task or with another architecture (e.g. initializing a BertForSequenceClassification model from a BertForPreTraining model).\n",
            "- This IS NOT expected if you are initializing RobertaModel from the checkpoint of a model that you expect to be exactly identical (initializing a BertForSequenceClassification model from a BertForSequenceClassification model).\n"
          ]
        },
        {
          "output_type": "stream",
          "name": "stdout",
          "text": [
            "Getting predictions for model 3\n"
          ]
        },
        {
          "output_type": "stream",
          "name": "stderr",
          "text": [
            "100%|██████████| 3/3 [00:01<00:00,  1.94it/s]\n",
            "Some weights of the model checkpoint at roberta-base were not used when initializing RobertaModel: ['lm_head.bias', 'lm_head.dense.bias', 'lm_head.decoder.weight', 'lm_head.layer_norm.weight', 'lm_head.layer_norm.bias', 'lm_head.dense.weight']\n",
            "- This IS expected if you are initializing RobertaModel from the checkpoint of a model trained on another task or with another architecture (e.g. initializing a BertForSequenceClassification model from a BertForPreTraining model).\n",
            "- This IS NOT expected if you are initializing RobertaModel from the checkpoint of a model that you expect to be exactly identical (initializing a BertForSequenceClassification model from a BertForSequenceClassification model).\n"
          ]
        },
        {
          "output_type": "stream",
          "name": "stdout",
          "text": [
            "Getting predictions for model 4\n"
          ]
        },
        {
          "output_type": "stream",
          "name": "stderr",
          "text": [
            "100%|██████████| 3/3 [00:01<00:00,  1.94it/s]\n",
            "Some weights of the model checkpoint at roberta-base were not used when initializing RobertaModel: ['lm_head.bias', 'lm_head.dense.bias', 'lm_head.decoder.weight', 'lm_head.layer_norm.weight', 'lm_head.layer_norm.bias', 'lm_head.dense.weight']\n",
            "- This IS expected if you are initializing RobertaModel from the checkpoint of a model trained on another task or with another architecture (e.g. initializing a BertForSequenceClassification model from a BertForPreTraining model).\n",
            "- This IS NOT expected if you are initializing RobertaModel from the checkpoint of a model that you expect to be exactly identical (initializing a BertForSequenceClassification model from a BertForSequenceClassification model).\n"
          ]
        },
        {
          "output_type": "stream",
          "name": "stdout",
          "text": [
            "Getting predictions for model 5\n"
          ]
        },
        {
          "output_type": "stream",
          "name": "stderr",
          "text": [
            "100%|██████████| 3/3 [00:01<00:00,  1.92it/s]\n"
          ]
        }
      ]
    },
    {
      "cell_type": "code",
      "source": [
        "from  sklearn.metrics import f1_score,accuracy_score,precision_score,classification_report\n",
        "print(classification_report(test[['sarcasm', 'irony',\n",
        "       'satire', 'understatement', 'overstatement', 'rhetorical_question']].values, preds,target_names=['sarcasm', 'irony',\n",
        "       'satire', 'understatement', 'overstatement', 'rhetorical_question']))"
      ],
      "metadata": {
        "colab": {
          "base_uri": "https://localhost:8080/"
        },
        "id": "f1Yd61DGJoOI",
        "outputId": "fa441c84-ce00-4a16-acc2-ff8597a734a5"
      },
      "execution_count": null,
      "outputs": [
        {
          "output_type": "stream",
          "name": "stdout",
          "text": [
            "                     precision    recall  f1-score   support\n",
            "\n",
            "            sarcasm       0.81      0.96      0.88       138\n",
            "              irony       0.39      0.25      0.31        36\n",
            "             satire       0.00      0.00      0.00         5\n",
            "     understatement       0.00      0.00      0.00         1\n",
            "      overstatement       0.00      0.00      0.00         6\n",
            "rhetorical_question       0.62      0.92      0.74        25\n",
            "\n",
            "          micro avg       0.73      0.78      0.75       211\n",
            "          macro avg       0.30      0.36      0.32       211\n",
            "       weighted avg       0.67      0.78      0.72       211\n",
            "        samples avg       0.75      0.79      0.76       211\n",
            "\n"
          ]
        }
      ]
    },
    {
      "cell_type": "markdown",
      "source": [
        "Recall loss + under sampling"
      ],
      "metadata": {
        "id": "6WWLYB032tEc"
      }
    },
    {
      "cell_type": "code",
      "source": [
        "MODEL_PATH_2=['/content/drive/MyDrive/ISarcasm/Models_Task_B/robaerta_base_recall_sampler/Loss-Fold-0.bin','/content/drive/MyDrive/ISarcasm/Models_Task_B/robaerta_base_recall_sampler/Loss-Fold-1.bin','/content/drive/MyDrive/ISarcasm/Models_Task_B/robaerta_base_recall_sampler/Loss-Fold-2.bin','/content/drive/MyDrive/ISarcasm/Models_Task_B/robaerta_base_recall_sampler/Loss-Fold-3.bin','/content/drive/MyDrive/ISarcasm/Models_Task_B/robaerta_base_recall_sampler/Loss-Fold-4.bin']\n",
        "# MODEL_PATH_2=['/content/drive/MyDrive/ISarcasm/Models_Task_B/bert_tweet_kim_cnn/Loss-Fold-0.bin']\n",
        "preds = inference(MODEL_PATH_2, valid_loader, CONFIG['device'])"
      ],
      "metadata": {
        "colab": {
          "base_uri": "https://localhost:8080/"
        },
        "id": "LS_1CWWC2sXs",
        "outputId": "08ee3415-47f0-46c7-99a0-376ae2644bae"
      },
      "execution_count": null,
      "outputs": [
        {
          "output_type": "stream",
          "name": "stderr",
          "text": [
            "Some weights of the model checkpoint at roberta-base were not used when initializing RobertaModel: ['lm_head.bias', 'lm_head.dense.bias', 'lm_head.decoder.weight', 'lm_head.layer_norm.weight', 'lm_head.layer_norm.bias', 'lm_head.dense.weight']\n",
            "- This IS expected if you are initializing RobertaModel from the checkpoint of a model trained on another task or with another architecture (e.g. initializing a BertForSequenceClassification model from a BertForPreTraining model).\n",
            "- This IS NOT expected if you are initializing RobertaModel from the checkpoint of a model that you expect to be exactly identical (initializing a BertForSequenceClassification model from a BertForSequenceClassification model).\n"
          ]
        },
        {
          "output_type": "stream",
          "name": "stdout",
          "text": [
            "Getting predictions for model 1\n"
          ]
        },
        {
          "output_type": "stream",
          "name": "stderr",
          "text": [
            "100%|██████████| 3/3 [00:01<00:00,  1.95it/s]\n",
            "Some weights of the model checkpoint at roberta-base were not used when initializing RobertaModel: ['lm_head.bias', 'lm_head.dense.bias', 'lm_head.decoder.weight', 'lm_head.layer_norm.weight', 'lm_head.layer_norm.bias', 'lm_head.dense.weight']\n",
            "- This IS expected if you are initializing RobertaModel from the checkpoint of a model trained on another task or with another architecture (e.g. initializing a BertForSequenceClassification model from a BertForPreTraining model).\n",
            "- This IS NOT expected if you are initializing RobertaModel from the checkpoint of a model that you expect to be exactly identical (initializing a BertForSequenceClassification model from a BertForSequenceClassification model).\n"
          ]
        },
        {
          "output_type": "stream",
          "name": "stdout",
          "text": [
            "Getting predictions for model 2\n"
          ]
        },
        {
          "output_type": "stream",
          "name": "stderr",
          "text": [
            "100%|██████████| 3/3 [00:01<00:00,  1.92it/s]\n",
            "Some weights of the model checkpoint at roberta-base were not used when initializing RobertaModel: ['lm_head.bias', 'lm_head.dense.bias', 'lm_head.decoder.weight', 'lm_head.layer_norm.weight', 'lm_head.layer_norm.bias', 'lm_head.dense.weight']\n",
            "- This IS expected if you are initializing RobertaModel from the checkpoint of a model trained on another task or with another architecture (e.g. initializing a BertForSequenceClassification model from a BertForPreTraining model).\n",
            "- This IS NOT expected if you are initializing RobertaModel from the checkpoint of a model that you expect to be exactly identical (initializing a BertForSequenceClassification model from a BertForSequenceClassification model).\n"
          ]
        },
        {
          "output_type": "stream",
          "name": "stdout",
          "text": [
            "Getting predictions for model 3\n"
          ]
        },
        {
          "output_type": "stream",
          "name": "stderr",
          "text": [
            "100%|██████████| 3/3 [00:01<00:00,  1.94it/s]\n",
            "Some weights of the model checkpoint at roberta-base were not used when initializing RobertaModel: ['lm_head.bias', 'lm_head.dense.bias', 'lm_head.decoder.weight', 'lm_head.layer_norm.weight', 'lm_head.layer_norm.bias', 'lm_head.dense.weight']\n",
            "- This IS expected if you are initializing RobertaModel from the checkpoint of a model trained on another task or with another architecture (e.g. initializing a BertForSequenceClassification model from a BertForPreTraining model).\n",
            "- This IS NOT expected if you are initializing RobertaModel from the checkpoint of a model that you expect to be exactly identical (initializing a BertForSequenceClassification model from a BertForSequenceClassification model).\n"
          ]
        },
        {
          "output_type": "stream",
          "name": "stdout",
          "text": [
            "Getting predictions for model 4\n"
          ]
        },
        {
          "output_type": "stream",
          "name": "stderr",
          "text": [
            "100%|██████████| 3/3 [00:01<00:00,  1.98it/s]\n",
            "Some weights of the model checkpoint at roberta-base were not used when initializing RobertaModel: ['lm_head.bias', 'lm_head.dense.bias', 'lm_head.decoder.weight', 'lm_head.layer_norm.weight', 'lm_head.layer_norm.bias', 'lm_head.dense.weight']\n",
            "- This IS expected if you are initializing RobertaModel from the checkpoint of a model trained on another task or with another architecture (e.g. initializing a BertForSequenceClassification model from a BertForPreTraining model).\n",
            "- This IS NOT expected if you are initializing RobertaModel from the checkpoint of a model that you expect to be exactly identical (initializing a BertForSequenceClassification model from a BertForSequenceClassification model).\n"
          ]
        },
        {
          "output_type": "stream",
          "name": "stdout",
          "text": [
            "Getting predictions for model 5\n"
          ]
        },
        {
          "output_type": "stream",
          "name": "stderr",
          "text": [
            "100%|██████████| 3/3 [00:01<00:00,  1.93it/s]\n"
          ]
        }
      ]
    },
    {
      "cell_type": "code",
      "source": [
        "from  sklearn.metrics import f1_score,accuracy_score,precision_score,classification_report\n",
        "print(classification_report(test[['sarcasm', 'irony',\n",
        "       'satire', 'understatement', 'overstatement', 'rhetorical_question']].values, preds,target_names=['sarcasm', 'irony',\n",
        "       'satire', 'understatement', 'overstatement', 'rhetorical_question']))"
      ],
      "metadata": {
        "colab": {
          "base_uri": "https://localhost:8080/"
        },
        "id": "JKHJYKkU2wv7",
        "outputId": "e8874f0c-2d64-46a7-ad70-37e17918a5fb"
      },
      "execution_count": null,
      "outputs": [
        {
          "output_type": "stream",
          "name": "stdout",
          "text": [
            "                     precision    recall  f1-score   support\n",
            "\n",
            "            sarcasm       0.79      1.00      0.88       138\n",
            "              irony       0.21      1.00      0.34        36\n",
            "             satire       0.03      1.00      0.06         5\n",
            "     understatement       0.00      0.00      0.00         1\n",
            "      overstatement       0.00      0.00      0.00         6\n",
            "rhetorical_question       0.14      1.00      0.25        25\n",
            "\n",
            "          micro avg       0.29      0.97      0.45       211\n",
            "          macro avg       0.20      0.67      0.26       211\n",
            "       weighted avg       0.57      0.97      0.67       211\n",
            "        samples avg       0.29      0.98      0.44       211\n",
            "\n"
          ]
        }
      ]
    },
    {
      "cell_type": "markdown",
      "source": [
        "Assym Loss + sampler cycle"
      ],
      "metadata": {
        "id": "vE-pYYYvHlcM"
      }
    },
    {
      "cell_type": "code",
      "source": [
        "MODEL_PATH_2=['/content/drive/MyDrive/ISarcasm/Models_Task_B/roberta_base_assym_cycle_sampler/Loss-Fold-0.bin','/content/drive/MyDrive/ISarcasm/Models_Task_B/roberta_base_assym_cycle_sampler/Loss-Fold-1.bin','/content/drive/MyDrive/ISarcasm/Models_Task_B/roberta_base_assym_cycle_sampler/Loss-Fold-2.bin','/content/drive/MyDrive/ISarcasm/Models_Task_B/roberta_base_assym_cycle_sampler/Loss-Fold-3.bin','/content/drive/MyDrive/ISarcasm/Models_Task_B/roberta_base_assym_cycle_sampler/Loss-Fold-4.bin']\n",
        "# MODEL_PATH_2=['/content/drive/MyDrive/ISarcasm/Models_Task_B/bert_tweet_kim_cnn/Loss-Fold-0.bin']\n",
        "preds = inference(MODEL_PATH_2, valid_loader, CONFIG['device'])"
      ],
      "metadata": {
        "id": "7v3fZ4izHm3b",
        "colab": {
          "base_uri": "https://localhost:8080/"
        },
        "outputId": "d55e7e01-a164-474d-ae8e-5fbc239710f1"
      },
      "execution_count": null,
      "outputs": [
        {
          "output_type": "stream",
          "name": "stderr",
          "text": [
            "Some weights of the model checkpoint at roberta-base were not used when initializing RobertaModel: ['lm_head.bias', 'lm_head.dense.bias', 'lm_head.decoder.weight', 'lm_head.layer_norm.weight', 'lm_head.layer_norm.bias', 'lm_head.dense.weight']\n",
            "- This IS expected if you are initializing RobertaModel from the checkpoint of a model trained on another task or with another architecture (e.g. initializing a BertForSequenceClassification model from a BertForPreTraining model).\n",
            "- This IS NOT expected if you are initializing RobertaModel from the checkpoint of a model that you expect to be exactly identical (initializing a BertForSequenceClassification model from a BertForSequenceClassification model).\n"
          ]
        },
        {
          "output_type": "stream",
          "name": "stdout",
          "text": [
            "Getting predictions for model 1\n"
          ]
        },
        {
          "output_type": "stream",
          "name": "stderr",
          "text": [
            "100%|██████████| 3/3 [00:01<00:00,  1.85it/s]\n",
            "Some weights of the model checkpoint at roberta-base were not used when initializing RobertaModel: ['lm_head.bias', 'lm_head.dense.bias', 'lm_head.decoder.weight', 'lm_head.layer_norm.weight', 'lm_head.layer_norm.bias', 'lm_head.dense.weight']\n",
            "- This IS expected if you are initializing RobertaModel from the checkpoint of a model trained on another task or with another architecture (e.g. initializing a BertForSequenceClassification model from a BertForPreTraining model).\n",
            "- This IS NOT expected if you are initializing RobertaModel from the checkpoint of a model that you expect to be exactly identical (initializing a BertForSequenceClassification model from a BertForSequenceClassification model).\n"
          ]
        },
        {
          "output_type": "stream",
          "name": "stdout",
          "text": [
            "Getting predictions for model 2\n"
          ]
        },
        {
          "output_type": "stream",
          "name": "stderr",
          "text": [
            "100%|██████████| 3/3 [00:01<00:00,  1.93it/s]\n",
            "Some weights of the model checkpoint at roberta-base were not used when initializing RobertaModel: ['lm_head.bias', 'lm_head.dense.bias', 'lm_head.decoder.weight', 'lm_head.layer_norm.weight', 'lm_head.layer_norm.bias', 'lm_head.dense.weight']\n",
            "- This IS expected if you are initializing RobertaModel from the checkpoint of a model trained on another task or with another architecture (e.g. initializing a BertForSequenceClassification model from a BertForPreTraining model).\n",
            "- This IS NOT expected if you are initializing RobertaModel from the checkpoint of a model that you expect to be exactly identical (initializing a BertForSequenceClassification model from a BertForSequenceClassification model).\n"
          ]
        },
        {
          "output_type": "stream",
          "name": "stdout",
          "text": [
            "Getting predictions for model 3\n"
          ]
        },
        {
          "output_type": "stream",
          "name": "stderr",
          "text": [
            "100%|██████████| 3/3 [00:01<00:00,  1.95it/s]\n",
            "Some weights of the model checkpoint at roberta-base were not used when initializing RobertaModel: ['lm_head.bias', 'lm_head.dense.bias', 'lm_head.decoder.weight', 'lm_head.layer_norm.weight', 'lm_head.layer_norm.bias', 'lm_head.dense.weight']\n",
            "- This IS expected if you are initializing RobertaModel from the checkpoint of a model trained on another task or with another architecture (e.g. initializing a BertForSequenceClassification model from a BertForPreTraining model).\n",
            "- This IS NOT expected if you are initializing RobertaModel from the checkpoint of a model that you expect to be exactly identical (initializing a BertForSequenceClassification model from a BertForSequenceClassification model).\n"
          ]
        },
        {
          "output_type": "stream",
          "name": "stdout",
          "text": [
            "Getting predictions for model 4\n"
          ]
        },
        {
          "output_type": "stream",
          "name": "stderr",
          "text": [
            "100%|██████████| 3/3 [00:01<00:00,  1.90it/s]\n",
            "Some weights of the model checkpoint at roberta-base were not used when initializing RobertaModel: ['lm_head.bias', 'lm_head.dense.bias', 'lm_head.decoder.weight', 'lm_head.layer_norm.weight', 'lm_head.layer_norm.bias', 'lm_head.dense.weight']\n",
            "- This IS expected if you are initializing RobertaModel from the checkpoint of a model trained on another task or with another architecture (e.g. initializing a BertForSequenceClassification model from a BertForPreTraining model).\n",
            "- This IS NOT expected if you are initializing RobertaModel from the checkpoint of a model that you expect to be exactly identical (initializing a BertForSequenceClassification model from a BertForSequenceClassification model).\n"
          ]
        },
        {
          "output_type": "stream",
          "name": "stdout",
          "text": [
            "Getting predictions for model 5\n"
          ]
        },
        {
          "output_type": "stream",
          "name": "stderr",
          "text": [
            "100%|██████████| 3/3 [00:01<00:00,  1.95it/s]\n"
          ]
        }
      ]
    },
    {
      "cell_type": "code",
      "source": [
        "from  sklearn.metrics import f1_score,accuracy_score,precision_score,classification_report\n",
        "print(classification_report(test[['sarcasm', 'irony',\n",
        "       'satire', 'understatement', 'overstatement', 'rhetorical_question']].values, preds,target_names=['sarcasm', 'irony',\n",
        "       'satire', 'understatement', 'overstatement', 'rhetorical_question']))"
      ],
      "metadata": {
        "id": "uSs1c0N-Hn-R",
        "colab": {
          "base_uri": "https://localhost:8080/"
        },
        "outputId": "214741b3-4f11-491d-d4d2-7abc83512b1e"
      },
      "execution_count": null,
      "outputs": [
        {
          "output_type": "stream",
          "name": "stdout",
          "text": [
            "                     precision    recall  f1-score   support\n",
            "\n",
            "            sarcasm       0.79      1.00      0.88       138\n",
            "              irony       0.29      0.81      0.43        36\n",
            "             satire       0.07      0.60      0.12         5\n",
            "     understatement       0.00      0.00      0.00         1\n",
            "      overstatement       0.05      0.83      0.10         6\n",
            "rhetorical_question       0.48      0.96      0.64        25\n",
            "\n",
            "          micro avg       0.43      0.94      0.59       211\n",
            "          macro avg       0.28      0.70      0.36       211\n",
            "       weighted avg       0.63      0.94      0.73       211\n",
            "        samples avg       0.47      0.95      0.60       211\n",
            "\n"
          ]
        }
      ]
    },
    {
      "cell_type": "code",
      "source": [
        "preds[0]"
      ],
      "metadata": {
        "id": "VX3mJl2CWRUT"
      },
      "execution_count": null,
      "outputs": []
    },
    {
      "cell_type": "markdown",
      "metadata": {
        "id": "RT8hjnxbbfJq"
      },
      "source": [
        "## Prepare submission"
      ]
    },
    {
      "cell_type": "code",
      "execution_count": null,
      "metadata": {
        "id": "U7HICl8MJQf0"
      },
      "outputs": [],
      "source": [
        "!cat task1.txt | head -n 10"
      ]
    },
    {
      "cell_type": "code",
      "execution_count": null,
      "metadata": {
        "id": "qCjziGtxJRif"
      },
      "outputs": [],
      "source": [
        "!cat task2.txt | head -n 10"
      ]
    },
    {
      "cell_type": "code",
      "execution_count": null,
      "metadata": {
        "id": "GZDLUcYZbhYg"
      },
      "outputs": [],
      "source": [
        "!zip submission.zip task1.txt task2.txt"
      ]
    }
  ],
  "metadata": {
    "accelerator": "GPU",
    "colab": {
      "collapsed_sections": [],
      "name": "roberta +kim cnn+ assym/recall/balance  BCE loss.ipynb",
      "provenance": []
    },
    "kernelspec": {
      "display_name": "Python 3",
      "language": "python",
      "name": "python3"
    },
    "language_info": {
      "codemirror_mode": {
        "name": "ipython",
        "version": 3
      },
      "file_extension": ".py",
      "mimetype": "text/x-python",
      "name": "python",
      "nbconvert_exporter": "python",
      "pygments_lexer": "ipython3",
      "version": "3.8.10"
    }
  },
  "nbformat": 4,
  "nbformat_minor": 0
}